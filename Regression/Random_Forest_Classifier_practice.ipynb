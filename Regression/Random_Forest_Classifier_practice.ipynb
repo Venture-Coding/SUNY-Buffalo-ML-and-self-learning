{
  "nbformat": 4,
  "nbformat_minor": 0,
  "metadata": {
    "colab": {
      "name": "Random_Forest_Classifier_practice.ipynb",
      "provenance": [],
      "authorship_tag": "ABX9TyNp5FYHN1p+ld+dPtXW6Cwi",
      "include_colab_link": true
    },
    "kernelspec": {
      "name": "python3",
      "display_name": "Python 3"
    },
    "language_info": {
      "name": "python"
    }
  },
  "cells": [
    {
      "cell_type": "markdown",
      "metadata": {
        "id": "view-in-github",
        "colab_type": "text"
      },
      "source": [
        "<a href=\"https://colab.research.google.com/github/Venture-Coding/SUNY-Buffalo-ML-and-self-learning/blob/main/Regression/Random_Forest_Classifier_practice.ipynb\" target=\"_parent\"><img src=\"https://colab.research.google.com/assets/colab-badge.svg\" alt=\"Open In Colab\"/></a>"
      ]
    },
    {
      "cell_type": "code",
      "metadata": {
        "id": "QxUcYdd3h4eK"
      },
      "source": [
        "import numpy as np\n",
        "import pandas as pd\n",
        "import matplotlib.pyplot as plt\n",
        "import os\n",
        "from sklearn import metrics, preprocessing\n",
        "from sklearn.ensemble import RandomForestClassifier\n",
        "from sklearn.model_selection import KFold\n",
        "from sklearn.model_selection import GridSearchCV\n",
        "from sklearn.model_selection import train_test_split"
      ],
      "execution_count": 3,
      "outputs": []
    },
    {
      "cell_type": "code",
      "metadata": {
        "colab": {
          "base_uri": "https://localhost:8080/",
          "height": 326
        },
        "id": "JW-adveIic9a",
        "outputId": "44387886-73b3-4878-8c3a-2b7879b62db0"
      },
      "source": [
        "# read data\n",
        "bank = pd.read_csv(\"bank_train.csv\")\n",
        "X = bank.drop(['purchased'], axis=1)\n",
        "y = bank['purchased']\n",
        "\n",
        "print(y.head())\n",
        "X.head()"
      ],
      "execution_count": 4,
      "outputs": [
        {
          "output_type": "stream",
          "name": "stdout",
          "text": [
            "0    1\n",
            "1    0\n",
            "2    0\n",
            "3    0\n",
            "4    0\n",
            "Name: purchased, dtype: int64\n"
          ]
        },
        {
          "output_type": "execute_result",
          "data": {
            "text/html": [
              "<div>\n",
              "<style scoped>\n",
              "    .dataframe tbody tr th:only-of-type {\n",
              "        vertical-align: middle;\n",
              "    }\n",
              "\n",
              "    .dataframe tbody tr th {\n",
              "        vertical-align: top;\n",
              "    }\n",
              "\n",
              "    .dataframe thead th {\n",
              "        text-align: right;\n",
              "    }\n",
              "</style>\n",
              "<table border=\"1\" class=\"dataframe\">\n",
              "  <thead>\n",
              "    <tr style=\"text-align: right;\">\n",
              "      <th></th>\n",
              "      <th>age</th>\n",
              "      <th>duration</th>\n",
              "      <th>campaign</th>\n",
              "      <th>pdays</th>\n",
              "      <th>previous</th>\n",
              "      <th>emp.var.rate</th>\n",
              "      <th>cons.price.idx</th>\n",
              "      <th>cons.conf.idx</th>\n",
              "      <th>euribor3m</th>\n",
              "      <th>nr.employed</th>\n",
              "      <th>id</th>\n",
              "      <th>job</th>\n",
              "      <th>marital</th>\n",
              "      <th>education</th>\n",
              "      <th>default</th>\n",
              "      <th>housing</th>\n",
              "      <th>loan</th>\n",
              "      <th>contact</th>\n",
              "      <th>month</th>\n",
              "      <th>day_of_week</th>\n",
              "      <th>poutcome</th>\n",
              "    </tr>\n",
              "  </thead>\n",
              "  <tbody>\n",
              "    <tr>\n",
              "      <th>0</th>\n",
              "      <td>41</td>\n",
              "      <td>679</td>\n",
              "      <td>2</td>\n",
              "      <td>999</td>\n",
              "      <td>0</td>\n",
              "      <td>1.1</td>\n",
              "      <td>93.994</td>\n",
              "      <td>-36.4</td>\n",
              "      <td>4.857</td>\n",
              "      <td>5191.0</td>\n",
              "      <td>1088</td>\n",
              "      <td>7</td>\n",
              "      <td>1</td>\n",
              "      <td>3</td>\n",
              "      <td>1</td>\n",
              "      <td>2</td>\n",
              "      <td>0</td>\n",
              "      <td>1</td>\n",
              "      <td>6</td>\n",
              "      <td>1</td>\n",
              "      <td>1</td>\n",
              "    </tr>\n",
              "    <tr>\n",
              "      <th>1</th>\n",
              "      <td>32</td>\n",
              "      <td>296</td>\n",
              "      <td>2</td>\n",
              "      <td>999</td>\n",
              "      <td>0</td>\n",
              "      <td>-0.1</td>\n",
              "      <td>93.200</td>\n",
              "      <td>-42.0</td>\n",
              "      <td>4.153</td>\n",
              "      <td>5195.8</td>\n",
              "      <td>4045</td>\n",
              "      <td>1</td>\n",
              "      <td>1</td>\n",
              "      <td>2</td>\n",
              "      <td>0</td>\n",
              "      <td>0</td>\n",
              "      <td>0</td>\n",
              "      <td>1</td>\n",
              "      <td>7</td>\n",
              "      <td>3</td>\n",
              "      <td>1</td>\n",
              "    </tr>\n",
              "    <tr>\n",
              "      <th>2</th>\n",
              "      <td>44</td>\n",
              "      <td>230</td>\n",
              "      <td>1</td>\n",
              "      <td>999</td>\n",
              "      <td>0</td>\n",
              "      <td>-1.8</td>\n",
              "      <td>93.075</td>\n",
              "      <td>-47.1</td>\n",
              "      <td>1.479</td>\n",
              "      <td>5099.1</td>\n",
              "      <td>492</td>\n",
              "      <td>4</td>\n",
              "      <td>0</td>\n",
              "      <td>5</td>\n",
              "      <td>0</td>\n",
              "      <td>2</td>\n",
              "      <td>0</td>\n",
              "      <td>0</td>\n",
              "      <td>0</td>\n",
              "      <td>0</td>\n",
              "      <td>1</td>\n",
              "    </tr>\n",
              "    <tr>\n",
              "      <th>3</th>\n",
              "      <td>38</td>\n",
              "      <td>119</td>\n",
              "      <td>1</td>\n",
              "      <td>999</td>\n",
              "      <td>0</td>\n",
              "      <td>-1.8</td>\n",
              "      <td>92.843</td>\n",
              "      <td>-50.0</td>\n",
              "      <td>1.757</td>\n",
              "      <td>5099.1</td>\n",
              "      <td>3563</td>\n",
              "      <td>9</td>\n",
              "      <td>1</td>\n",
              "      <td>4</td>\n",
              "      <td>0</td>\n",
              "      <td>0</td>\n",
              "      <td>0</td>\n",
              "      <td>0</td>\n",
              "      <td>5</td>\n",
              "      <td>2</td>\n",
              "      <td>1</td>\n",
              "    </tr>\n",
              "    <tr>\n",
              "      <th>4</th>\n",
              "      <td>60</td>\n",
              "      <td>259</td>\n",
              "      <td>1</td>\n",
              "      <td>999</td>\n",
              "      <td>0</td>\n",
              "      <td>1.4</td>\n",
              "      <td>93.444</td>\n",
              "      <td>-36.1</td>\n",
              "      <td>4.962</td>\n",
              "      <td>5228.1</td>\n",
              "      <td>1828</td>\n",
              "      <td>0</td>\n",
              "      <td>1</td>\n",
              "      <td>2</td>\n",
              "      <td>0</td>\n",
              "      <td>2</td>\n",
              "      <td>0</td>\n",
              "      <td>0</td>\n",
              "      <td>1</td>\n",
              "      <td>2</td>\n",
              "      <td>1</td>\n",
              "    </tr>\n",
              "  </tbody>\n",
              "</table>\n",
              "</div>"
            ],
            "text/plain": [
              "   age  duration  campaign  pdays  ...  contact  month  day_of_week  poutcome\n",
              "0   41       679         2    999  ...        1      6            1         1\n",
              "1   32       296         2    999  ...        1      7            3         1\n",
              "2   44       230         1    999  ...        0      0            0         1\n",
              "3   38       119         1    999  ...        0      5            2         1\n",
              "4   60       259         1    999  ...        0      1            2         1\n",
              "\n",
              "[5 rows x 21 columns]"
            ]
          },
          "metadata": {},
          "execution_count": 4
        }
      ]
    },
    {
      "cell_type": "code",
      "metadata": {
        "colab": {
          "base_uri": "https://localhost:8080/"
        },
        "id": "yerfppBjic_z",
        "outputId": "a4efcc14-6d49-469a-b356-ed8c436f65e5"
      },
      "source": [
        "# read train, test data\n",
        "bank_train, bank_test, y_train, y_test = train_test_split(X, y, random_state = 0,test_size = 0.2)\n",
        "  \n",
        "print(bank_train.head())\n",
        "print(bank_test.head())"
      ],
      "execution_count": 5,
      "outputs": [
        {
          "output_type": "stream",
          "name": "stdout",
          "text": [
            "      age  duration  campaign  pdays  ...  contact  month  day_of_week  poutcome\n",
            "1303   33      1176         1    999  ...        0      0            4         1\n",
            "886    58        70         1    999  ...        0      7            1         1\n",
            "149    29        14         5    999  ...        0      1            0         1\n",
            "1311   34        77         4    999  ...        0      6            4         1\n",
            "2085   45        10        16    999  ...        1      4            2         1\n",
            "\n",
            "[5 rows x 21 columns]\n",
            "      age  duration  campaign  pdays  ...  contact  month  day_of_week  poutcome\n",
            "983    58        79         2    999  ...        0      4            3         1\n",
            "33     45       226         1    999  ...        0      1            1         1\n",
            "2047   45       527         1    999  ...        0      7            1         1\n",
            "2427   59       422         3    999  ...        1      6            2         1\n",
            "578    34       145         1    999  ...        0      1            1         1\n",
            "\n",
            "[5 rows x 21 columns]\n"
          ]
        }
      ]
    },
    {
      "cell_type": "code",
      "metadata": {
        "colab": {
          "base_uri": "https://localhost:8080/"
        },
        "id": "abmFUpyEidB8",
        "outputId": "a1497677-98a6-4c59-ba6f-78885a7cb3d6"
      },
      "source": [
        "print(bank_train.columns)\n",
        "x_train = bank_train"
      ],
      "execution_count": 6,
      "outputs": [
        {
          "output_type": "stream",
          "name": "stdout",
          "text": [
            "Index(['age', 'duration', 'campaign', 'pdays', 'previous', 'emp.var.rate',\n",
            "       'cons.price.idx', 'cons.conf.idx', 'euribor3m', 'nr.employed', 'id',\n",
            "       'job', 'marital', 'education', 'default', 'housing', 'loan', 'contact',\n",
            "       'month', 'day_of_week', 'poutcome'],\n",
            "      dtype='object')\n"
          ]
        }
      ]
    },
    {
      "cell_type": "code",
      "metadata": {
        "colab": {
          "base_uri": "https://localhost:8080/"
        },
        "id": "Ie5WAhWEidEG",
        "outputId": "a00c0b28-1b63-4109-8251-fa9e5975fc74"
      },
      "source": [
        "rf = RandomForestClassifier(max_depth=4, random_state=0)\n",
        "rf.fit(x_train, y_train)"
      ],
      "execution_count": 7,
      "outputs": [
        {
          "output_type": "execute_result",
          "data": {
            "text/plain": [
              "RandomForestClassifier(bootstrap=True, ccp_alpha=0.0, class_weight=None,\n",
              "                       criterion='gini', max_depth=4, max_features='auto',\n",
              "                       max_leaf_nodes=None, max_samples=None,\n",
              "                       min_impurity_decrease=0.0, min_impurity_split=None,\n",
              "                       min_samples_leaf=1, min_samples_split=2,\n",
              "                       min_weight_fraction_leaf=0.0, n_estimators=100,\n",
              "                       n_jobs=None, oob_score=False, random_state=0, verbose=0,\n",
              "                       warm_start=False)"
            ]
          },
          "metadata": {},
          "execution_count": 7
        }
      ]
    },
    {
      "cell_type": "code",
      "metadata": {
        "colab": {
          "base_uri": "https://localhost:8080/"
        },
        "id": "2XlXVqCJidNY",
        "outputId": "bb7eb3e0-dbc6-4315-fde6-fc3e82ce45ea"
      },
      "source": [
        "predictions = rf.predict(bank_test)\n",
        "print(predictions[:5])\n"
      ],
      "execution_count": 8,
      "outputs": [
        {
          "output_type": "stream",
          "name": "stdout",
          "text": [
            "[0 0 0 0 0]\n"
          ]
        }
      ]
    },
    {
      "cell_type": "code",
      "metadata": {
        "colab": {
          "base_uri": "https://localhost:8080/"
        },
        "id": "Jjm3fOaORYYk",
        "outputId": "2afd8ddd-9abd-4513-aa7f-0bb5aa96aa90"
      },
      "source": [
        "# evaluation metrics\n",
        "from sklearn.metrics import classification_report,confusion_matrix, accuracy_score\n",
        "\n",
        "print(accuracy_score(y_test,predictions))"
      ],
      "execution_count": 10,
      "outputs": [
        {
          "output_type": "stream",
          "name": "stdout",
          "text": [
            "0.9059180576631259\n"
          ]
        }
      ]
    },
    {
      "cell_type": "code",
      "metadata": {
        "colab": {
          "base_uri": "https://localhost:8080/"
        },
        "id": "c1PI7HcEmpPs",
        "outputId": "26993ff9-6059-41ac-cf6c-f66dbde2a7c8"
      },
      "source": [
        "#####################################################\n",
        "## Implement GridSearchCV to find optimal max_depth\n",
        "#####################################################\n",
        "\n",
        "# specify number of folds for k-fold CV\n",
        "n_folds = 5 \n",
        "\n",
        "# specify range of the hyperparameter max_depth \n",
        "parameters = {\n",
        "    'max_depth': [4,8,12,20],\n",
        "    'min_samples_leaf': [100],\n",
        "    'min_samples_split': [200],\n",
        "    'n_estimators': [100], \n",
        "    'max_features': [8,10]\n",
        "} \n",
        "\n",
        "# instantiate the model\n",
        "rf1 = RandomForestClassifier()\n",
        "\n",
        "# fit tree on training data\n",
        "rf1 = GridSearchCV(rf1, parameters, \n",
        "                    cv=n_folds, \n",
        "                   scoring=\"accuracy\", \n",
        "                   return_train_score = True)\n",
        "\n",
        "# fit the rf model \n",
        "rf1.fit(x_train, y_train)"
      ],
      "execution_count": 11,
      "outputs": [
        {
          "output_type": "execute_result",
          "data": {
            "text/plain": [
              "GridSearchCV(cv=5, error_score=nan,\n",
              "             estimator=RandomForestClassifier(bootstrap=True, ccp_alpha=0.0,\n",
              "                                              class_weight=None,\n",
              "                                              criterion='gini', max_depth=None,\n",
              "                                              max_features='auto',\n",
              "                                              max_leaf_nodes=None,\n",
              "                                              max_samples=None,\n",
              "                                              min_impurity_decrease=0.0,\n",
              "                                              min_impurity_split=None,\n",
              "                                              min_samples_leaf=1,\n",
              "                                              min_samples_split=2,\n",
              "                                              min_weight_fraction_leaf=0.0,\n",
              "                                              n_estimators=100, n_jobs=None,\n",
              "                                              oob_score=False,\n",
              "                                              random_state=None, verbose=0,\n",
              "                                              warm_start=False),\n",
              "             iid='deprecated', n_jobs=None,\n",
              "             param_grid={'max_depth': [4, 8, 12, 20], 'max_features': [8, 10],\n",
              "                         'min_samples_leaf': [100], 'min_samples_split': [200],\n",
              "                         'n_estimators': [100]},\n",
              "             pre_dispatch='2*n_jobs', refit=True, return_train_score=True,\n",
              "             scoring='accuracy', verbose=0)"
            ]
          },
          "metadata": {},
          "execution_count": 11
        }
      ]
    },
    {
      "cell_type": "code",
      "metadata": {
        "colab": {
          "base_uri": "https://localhost:8080/"
        },
        "id": "Kw7TbaGPqnGz",
        "outputId": "715f0a9f-c2ac-43c2-fb40-17a2acda6a92"
      },
      "source": [
        "print('We can get accuracy of',rf1.best_score_,'using',rf1.best_params_)"
      ],
      "execution_count": 12,
      "outputs": [
        {
          "output_type": "stream",
          "name": "stdout",
          "text": [
            "We can get accuracy of 0.8945374044045771 using {'max_depth': 4, 'max_features': 8, 'min_samples_leaf': 100, 'min_samples_split': 200, 'n_estimators': 100}\n"
          ]
        }
      ]
    },
    {
      "cell_type": "code",
      "metadata": {
        "colab": {
          "base_uri": "https://localhost:8080/",
          "height": 564
        },
        "id": "co8sMDz2mpRy",
        "outputId": "7c7fecd3-1aee-4a76-fa23-04138732d45e"
      },
      "source": [
        "# store scores/results of GridSearch CV in a df\n",
        "scores = rf1.cv_results_\n",
        "pd.DataFrame(scores).head()\n"
      ],
      "execution_count": 13,
      "outputs": [
        {
          "output_type": "execute_result",
          "data": {
            "text/html": [
              "<div>\n",
              "<style scoped>\n",
              "    .dataframe tbody tr th:only-of-type {\n",
              "        vertical-align: middle;\n",
              "    }\n",
              "\n",
              "    .dataframe tbody tr th {\n",
              "        vertical-align: top;\n",
              "    }\n",
              "\n",
              "    .dataframe thead th {\n",
              "        text-align: right;\n",
              "    }\n",
              "</style>\n",
              "<table border=\"1\" class=\"dataframe\">\n",
              "  <thead>\n",
              "    <tr style=\"text-align: right;\">\n",
              "      <th></th>\n",
              "      <th>mean_fit_time</th>\n",
              "      <th>std_fit_time</th>\n",
              "      <th>mean_score_time</th>\n",
              "      <th>std_score_time</th>\n",
              "      <th>param_max_depth</th>\n",
              "      <th>param_max_features</th>\n",
              "      <th>param_min_samples_leaf</th>\n",
              "      <th>param_min_samples_split</th>\n",
              "      <th>param_n_estimators</th>\n",
              "      <th>params</th>\n",
              "      <th>split0_test_score</th>\n",
              "      <th>split1_test_score</th>\n",
              "      <th>split2_test_score</th>\n",
              "      <th>split3_test_score</th>\n",
              "      <th>split4_test_score</th>\n",
              "      <th>mean_test_score</th>\n",
              "      <th>std_test_score</th>\n",
              "      <th>rank_test_score</th>\n",
              "      <th>split0_train_score</th>\n",
              "      <th>split1_train_score</th>\n",
              "      <th>split2_train_score</th>\n",
              "      <th>split3_train_score</th>\n",
              "      <th>split4_train_score</th>\n",
              "      <th>mean_train_score</th>\n",
              "      <th>std_train_score</th>\n",
              "    </tr>\n",
              "  </thead>\n",
              "  <tbody>\n",
              "    <tr>\n",
              "      <th>0</th>\n",
              "      <td>0.253007</td>\n",
              "      <td>0.004167</td>\n",
              "      <td>0.012758</td>\n",
              "      <td>0.000362</td>\n",
              "      <td>4</td>\n",
              "      <td>8</td>\n",
              "      <td>100</td>\n",
              "      <td>200</td>\n",
              "      <td>100</td>\n",
              "      <td>{'max_depth': 4, 'max_features': 8, 'min_sampl...</td>\n",
              "      <td>0.893939</td>\n",
              "      <td>0.893738</td>\n",
              "      <td>0.893738</td>\n",
              "      <td>0.895636</td>\n",
              "      <td>0.895636</td>\n",
              "      <td>0.894537</td>\n",
              "      <td>0.0009</td>\n",
              "      <td>1</td>\n",
              "      <td>0.894687</td>\n",
              "      <td>0.894737</td>\n",
              "      <td>0.894737</td>\n",
              "      <td>0.894263</td>\n",
              "      <td>0.894263</td>\n",
              "      <td>0.894537</td>\n",
              "      <td>0.000225</td>\n",
              "    </tr>\n",
              "    <tr>\n",
              "      <th>1</th>\n",
              "      <td>0.275845</td>\n",
              "      <td>0.007802</td>\n",
              "      <td>0.012412</td>\n",
              "      <td>0.000453</td>\n",
              "      <td>4</td>\n",
              "      <td>10</td>\n",
              "      <td>100</td>\n",
              "      <td>200</td>\n",
              "      <td>100</td>\n",
              "      <td>{'max_depth': 4, 'max_features': 10, 'min_samp...</td>\n",
              "      <td>0.893939</td>\n",
              "      <td>0.893738</td>\n",
              "      <td>0.893738</td>\n",
              "      <td>0.895636</td>\n",
              "      <td>0.895636</td>\n",
              "      <td>0.894537</td>\n",
              "      <td>0.0009</td>\n",
              "      <td>1</td>\n",
              "      <td>0.894687</td>\n",
              "      <td>0.894737</td>\n",
              "      <td>0.894737</td>\n",
              "      <td>0.894263</td>\n",
              "      <td>0.894263</td>\n",
              "      <td>0.894537</td>\n",
              "      <td>0.000225</td>\n",
              "    </tr>\n",
              "    <tr>\n",
              "      <th>2</th>\n",
              "      <td>0.269885</td>\n",
              "      <td>0.009775</td>\n",
              "      <td>0.013563</td>\n",
              "      <td>0.002058</td>\n",
              "      <td>8</td>\n",
              "      <td>8</td>\n",
              "      <td>100</td>\n",
              "      <td>200</td>\n",
              "      <td>100</td>\n",
              "      <td>{'max_depth': 8, 'max_features': 8, 'min_sampl...</td>\n",
              "      <td>0.893939</td>\n",
              "      <td>0.893738</td>\n",
              "      <td>0.893738</td>\n",
              "      <td>0.895636</td>\n",
              "      <td>0.895636</td>\n",
              "      <td>0.894537</td>\n",
              "      <td>0.0009</td>\n",
              "      <td>1</td>\n",
              "      <td>0.894687</td>\n",
              "      <td>0.894737</td>\n",
              "      <td>0.894737</td>\n",
              "      <td>0.894263</td>\n",
              "      <td>0.894263</td>\n",
              "      <td>0.894537</td>\n",
              "      <td>0.000225</td>\n",
              "    </tr>\n",
              "    <tr>\n",
              "      <th>3</th>\n",
              "      <td>0.290968</td>\n",
              "      <td>0.007273</td>\n",
              "      <td>0.012452</td>\n",
              "      <td>0.000268</td>\n",
              "      <td>8</td>\n",
              "      <td>10</td>\n",
              "      <td>100</td>\n",
              "      <td>200</td>\n",
              "      <td>100</td>\n",
              "      <td>{'max_depth': 8, 'max_features': 10, 'min_samp...</td>\n",
              "      <td>0.893939</td>\n",
              "      <td>0.893738</td>\n",
              "      <td>0.893738</td>\n",
              "      <td>0.895636</td>\n",
              "      <td>0.895636</td>\n",
              "      <td>0.894537</td>\n",
              "      <td>0.0009</td>\n",
              "      <td>1</td>\n",
              "      <td>0.894687</td>\n",
              "      <td>0.894737</td>\n",
              "      <td>0.894737</td>\n",
              "      <td>0.894263</td>\n",
              "      <td>0.894263</td>\n",
              "      <td>0.894537</td>\n",
              "      <td>0.000225</td>\n",
              "    </tr>\n",
              "    <tr>\n",
              "      <th>4</th>\n",
              "      <td>0.264483</td>\n",
              "      <td>0.006310</td>\n",
              "      <td>0.014585</td>\n",
              "      <td>0.002880</td>\n",
              "      <td>12</td>\n",
              "      <td>8</td>\n",
              "      <td>100</td>\n",
              "      <td>200</td>\n",
              "      <td>100</td>\n",
              "      <td>{'max_depth': 12, 'max_features': 8, 'min_samp...</td>\n",
              "      <td>0.893939</td>\n",
              "      <td>0.893738</td>\n",
              "      <td>0.893738</td>\n",
              "      <td>0.895636</td>\n",
              "      <td>0.895636</td>\n",
              "      <td>0.894537</td>\n",
              "      <td>0.0009</td>\n",
              "      <td>1</td>\n",
              "      <td>0.894687</td>\n",
              "      <td>0.894737</td>\n",
              "      <td>0.894737</td>\n",
              "      <td>0.894263</td>\n",
              "      <td>0.894263</td>\n",
              "      <td>0.894537</td>\n",
              "      <td>0.000225</td>\n",
              "    </tr>\n",
              "  </tbody>\n",
              "</table>\n",
              "</div>"
            ],
            "text/plain": [
              "   mean_fit_time  std_fit_time  ...  mean_train_score  std_train_score\n",
              "0       0.253007      0.004167  ...          0.894537         0.000225\n",
              "1       0.275845      0.007802  ...          0.894537         0.000225\n",
              "2       0.269885      0.009775  ...          0.894537         0.000225\n",
              "3       0.290968      0.007273  ...          0.894537         0.000225\n",
              "4       0.264483      0.006310  ...          0.894537         0.000225\n",
              "\n",
              "[5 rows x 25 columns]"
            ]
          },
          "metadata": {},
          "execution_count": 13
        }
      ]
    },
    {
      "cell_type": "code",
      "metadata": {
        "id": "HwskPGZkxPpJ"
      },
      "source": [
        ""
      ],
      "execution_count": null,
      "outputs": []
    }
  ]
}