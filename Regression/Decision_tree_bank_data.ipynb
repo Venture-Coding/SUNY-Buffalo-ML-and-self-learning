{
  "nbformat": 4,
  "nbformat_minor": 0,
  "metadata": {
    "colab": {
      "name": "Decision_tree_bank_data.ipynb",
      "provenance": [],
      "authorship_tag": "ABX9TyNFDbe+eaz7J23vs/W5yqxK",
      "include_colab_link": true
    },
    "kernelspec": {
      "name": "python3",
      "display_name": "Python 3"
    },
    "language_info": {
      "name": "python"
    }
  },
  "cells": [
    {
      "cell_type": "markdown",
      "metadata": {
        "id": "view-in-github",
        "colab_type": "text"
      },
      "source": [
        "<a href=\"https://colab.research.google.com/github/Venture-Coding/SUNY-Buffalo-ML-and-self-learning/blob/main/Regression/Decision_tree_bank_data.ipynb\" target=\"_parent\"><img src=\"https://colab.research.google.com/assets/colab-badge.svg\" alt=\"Open In Colab\"/></a>"
      ]
    },
    {
      "cell_type": "code",
      "metadata": {
        "id": "pm-m9cXb4Pk3"
      },
      "source": [
        "import numpy as np\n",
        "import pandas as pd\n",
        "import matplotlib.pyplot as plt\n",
        "import os\n",
        "from sklearn import metrics, preprocessing\n",
        "from sklearn.tree import DecisionTreeClassifier\n",
        "from sklearn.model_selection import KFold\n",
        "from sklearn.model_selection import GridSearchCV\n",
        "from sklearn.model_selection import train_test_split"
      ],
      "execution_count": 2,
      "outputs": []
    },
    {
      "cell_type": "code",
      "metadata": {
        "colab": {
          "base_uri": "https://localhost:8080/",
          "height": 326
        },
        "id": "1Fy2xbHFAAGW",
        "outputId": "170a6450-038d-4ab6-92dc-28ee9e4a3fea"
      },
      "source": [
        "\n",
        "# read data\n",
        "bank = pd.read_csv(\"bank_train.csv\")\n",
        "X = bank.drop(['purchased'], axis=1)\n",
        "y = bank[['purchased']]\n",
        "\n",
        "print(y.head())\n",
        "X.head()"
      ],
      "execution_count": 31,
      "outputs": [
        {
          "output_type": "stream",
          "name": "stdout",
          "text": [
            "   purchased\n",
            "0          1\n",
            "1          0\n",
            "2          0\n",
            "3          0\n",
            "4          0\n"
          ]
        },
        {
          "output_type": "execute_result",
          "data": {
            "text/html": [
              "<div>\n",
              "<style scoped>\n",
              "    .dataframe tbody tr th:only-of-type {\n",
              "        vertical-align: middle;\n",
              "    }\n",
              "\n",
              "    .dataframe tbody tr th {\n",
              "        vertical-align: top;\n",
              "    }\n",
              "\n",
              "    .dataframe thead th {\n",
              "        text-align: right;\n",
              "    }\n",
              "</style>\n",
              "<table border=\"1\" class=\"dataframe\">\n",
              "  <thead>\n",
              "    <tr style=\"text-align: right;\">\n",
              "      <th></th>\n",
              "      <th>age</th>\n",
              "      <th>duration</th>\n",
              "      <th>campaign</th>\n",
              "      <th>pdays</th>\n",
              "      <th>previous</th>\n",
              "      <th>emp.var.rate</th>\n",
              "      <th>cons.price.idx</th>\n",
              "      <th>cons.conf.idx</th>\n",
              "      <th>euribor3m</th>\n",
              "      <th>nr.employed</th>\n",
              "      <th>id</th>\n",
              "      <th>job</th>\n",
              "      <th>marital</th>\n",
              "      <th>education</th>\n",
              "      <th>default</th>\n",
              "      <th>housing</th>\n",
              "      <th>loan</th>\n",
              "      <th>contact</th>\n",
              "      <th>month</th>\n",
              "      <th>day_of_week</th>\n",
              "      <th>poutcome</th>\n",
              "    </tr>\n",
              "  </thead>\n",
              "  <tbody>\n",
              "    <tr>\n",
              "      <th>0</th>\n",
              "      <td>41</td>\n",
              "      <td>679</td>\n",
              "      <td>2</td>\n",
              "      <td>999</td>\n",
              "      <td>0</td>\n",
              "      <td>1.1</td>\n",
              "      <td>93.994</td>\n",
              "      <td>-36.4</td>\n",
              "      <td>4.857</td>\n",
              "      <td>5191.0</td>\n",
              "      <td>1088</td>\n",
              "      <td>7</td>\n",
              "      <td>1</td>\n",
              "      <td>3</td>\n",
              "      <td>1</td>\n",
              "      <td>2</td>\n",
              "      <td>0</td>\n",
              "      <td>1</td>\n",
              "      <td>6</td>\n",
              "      <td>1</td>\n",
              "      <td>1</td>\n",
              "    </tr>\n",
              "    <tr>\n",
              "      <th>1</th>\n",
              "      <td>32</td>\n",
              "      <td>296</td>\n",
              "      <td>2</td>\n",
              "      <td>999</td>\n",
              "      <td>0</td>\n",
              "      <td>-0.1</td>\n",
              "      <td>93.200</td>\n",
              "      <td>-42.0</td>\n",
              "      <td>4.153</td>\n",
              "      <td>5195.8</td>\n",
              "      <td>4045</td>\n",
              "      <td>1</td>\n",
              "      <td>1</td>\n",
              "      <td>2</td>\n",
              "      <td>0</td>\n",
              "      <td>0</td>\n",
              "      <td>0</td>\n",
              "      <td>1</td>\n",
              "      <td>7</td>\n",
              "      <td>3</td>\n",
              "      <td>1</td>\n",
              "    </tr>\n",
              "    <tr>\n",
              "      <th>2</th>\n",
              "      <td>44</td>\n",
              "      <td>230</td>\n",
              "      <td>1</td>\n",
              "      <td>999</td>\n",
              "      <td>0</td>\n",
              "      <td>-1.8</td>\n",
              "      <td>93.075</td>\n",
              "      <td>-47.1</td>\n",
              "      <td>1.479</td>\n",
              "      <td>5099.1</td>\n",
              "      <td>492</td>\n",
              "      <td>4</td>\n",
              "      <td>0</td>\n",
              "      <td>5</td>\n",
              "      <td>0</td>\n",
              "      <td>2</td>\n",
              "      <td>0</td>\n",
              "      <td>0</td>\n",
              "      <td>0</td>\n",
              "      <td>0</td>\n",
              "      <td>1</td>\n",
              "    </tr>\n",
              "    <tr>\n",
              "      <th>3</th>\n",
              "      <td>38</td>\n",
              "      <td>119</td>\n",
              "      <td>1</td>\n",
              "      <td>999</td>\n",
              "      <td>0</td>\n",
              "      <td>-1.8</td>\n",
              "      <td>92.843</td>\n",
              "      <td>-50.0</td>\n",
              "      <td>1.757</td>\n",
              "      <td>5099.1</td>\n",
              "      <td>3563</td>\n",
              "      <td>9</td>\n",
              "      <td>1</td>\n",
              "      <td>4</td>\n",
              "      <td>0</td>\n",
              "      <td>0</td>\n",
              "      <td>0</td>\n",
              "      <td>0</td>\n",
              "      <td>5</td>\n",
              "      <td>2</td>\n",
              "      <td>1</td>\n",
              "    </tr>\n",
              "    <tr>\n",
              "      <th>4</th>\n",
              "      <td>60</td>\n",
              "      <td>259</td>\n",
              "      <td>1</td>\n",
              "      <td>999</td>\n",
              "      <td>0</td>\n",
              "      <td>1.4</td>\n",
              "      <td>93.444</td>\n",
              "      <td>-36.1</td>\n",
              "      <td>4.962</td>\n",
              "      <td>5228.1</td>\n",
              "      <td>1828</td>\n",
              "      <td>0</td>\n",
              "      <td>1</td>\n",
              "      <td>2</td>\n",
              "      <td>0</td>\n",
              "      <td>2</td>\n",
              "      <td>0</td>\n",
              "      <td>0</td>\n",
              "      <td>1</td>\n",
              "      <td>2</td>\n",
              "      <td>1</td>\n",
              "    </tr>\n",
              "  </tbody>\n",
              "</table>\n",
              "</div>"
            ],
            "text/plain": [
              "   age  duration  campaign  pdays  ...  contact  month  day_of_week  poutcome\n",
              "0   41       679         2    999  ...        1      6            1         1\n",
              "1   32       296         2    999  ...        1      7            3         1\n",
              "2   44       230         1    999  ...        0      0            0         1\n",
              "3   38       119         1    999  ...        0      5            2         1\n",
              "4   60       259         1    999  ...        0      1            2         1\n",
              "\n",
              "[5 rows x 21 columns]"
            ]
          },
          "metadata": {},
          "execution_count": 31
        }
      ]
    },
    {
      "cell_type": "code",
      "metadata": {
        "colab": {
          "base_uri": "https://localhost:8080/"
        },
        "id": "cfl4nnTiFiX5",
        "outputId": "196bab14-dae1-4925-a052-85770bf28c60"
      },
      "source": [
        "\n",
        "# read train, test data\n",
        "bank_train, bank_test, y_train, y_test = train_test_split(X, y, random_state = 0,test_size = 0.2)\n",
        "  \n",
        "print(bank_train.head())\n",
        "print(bank_test.head())\n"
      ],
      "execution_count": 32,
      "outputs": [
        {
          "output_type": "stream",
          "name": "stdout",
          "text": [
            "      age  duration  campaign  pdays  ...  contact  month  day_of_week  poutcome\n",
            "1303   33      1176         1    999  ...        0      0            4         1\n",
            "886    58        70         1    999  ...        0      7            1         1\n",
            "149    29        14         5    999  ...        0      1            0         1\n",
            "1311   34        77         4    999  ...        0      6            4         1\n",
            "2085   45        10        16    999  ...        1      4            2         1\n",
            "\n",
            "[5 rows x 21 columns]\n",
            "      age  duration  campaign  pdays  ...  contact  month  day_of_week  poutcome\n",
            "983    58        79         2    999  ...        0      4            3         1\n",
            "33     45       226         1    999  ...        0      1            1         1\n",
            "2047   45       527         1    999  ...        0      7            1         1\n",
            "2427   59       422         3    999  ...        1      6            2         1\n",
            "578    34       145         1    999  ...        0      1            1         1\n",
            "\n",
            "[5 rows x 21 columns]\n"
          ]
        }
      ]
    },
    {
      "cell_type": "code",
      "metadata": {
        "colab": {
          "base_uri": "https://localhost:8080/"
        },
        "id": "tRJ7TZizAEmo",
        "outputId": "bc28000c-f800-4146-dab1-157d4ee26bb6"
      },
      "source": [
        "\n",
        "# build the model \n",
        "\n",
        "# # train the model\n",
        "print(bank_train.columns)\n",
        "#y_train = bank_train[['purchased']]\n",
        "x_train = bank_train"
      ],
      "execution_count": 33,
      "outputs": [
        {
          "output_type": "stream",
          "name": "stdout",
          "text": [
            "Index(['age', 'duration', 'campaign', 'pdays', 'previous', 'emp.var.rate',\n",
            "       'cons.price.idx', 'cons.conf.idx', 'euribor3m', 'nr.employed', 'id',\n",
            "       'job', 'marital', 'education', 'default', 'housing', 'loan', 'contact',\n",
            "       'month', 'day_of_week', 'poutcome'],\n",
            "      dtype='object')\n"
          ]
        }
      ]
    },
    {
      "cell_type": "code",
      "metadata": {
        "id": "TyTDhckiENf4"
      },
      "source": [
        "\n",
        "# Hyperparameter tuning: maxdepth\n",
        "# specify number of folds for k-fold CV\n",
        "n_folds = 5\n",
        "\n",
        "# parameters to build the model on\n",
        "parameters = {'max_depth': range(1, 40)}\n"
      ],
      "execution_count": 34,
      "outputs": []
    },
    {
      "cell_type": "code",
      "metadata": {
        "colab": {
          "base_uri": "https://localhost:8080/"
        },
        "id": "2Wyz-vv2ALVF",
        "outputId": "faf58ada-c188-43a3-b038-bd6d2f6cb3fb"
      },
      "source": [
        "\n",
        "# instantiate the model\n",
        "dtree = DecisionTreeClassifier(random_state = 100)\n",
        "\n",
        "# fit tree on training data\n",
        "tree = GridSearchCV(dtree, parameters, \n",
        "                    cv=n_folds, \n",
        "                   scoring=\"accuracy\",\n",
        "                   return_train_score=True)\n",
        "tree.fit(x_train, y_train)\n"
      ],
      "execution_count": 35,
      "outputs": [
        {
          "output_type": "execute_result",
          "data": {
            "text/plain": [
              "GridSearchCV(cv=5, error_score=nan,\n",
              "             estimator=DecisionTreeClassifier(ccp_alpha=0.0, class_weight=None,\n",
              "                                              criterion='gini', max_depth=None,\n",
              "                                              max_features=None,\n",
              "                                              max_leaf_nodes=None,\n",
              "                                              min_impurity_decrease=0.0,\n",
              "                                              min_impurity_split=None,\n",
              "                                              min_samples_leaf=1,\n",
              "                                              min_samples_split=2,\n",
              "                                              min_weight_fraction_leaf=0.0,\n",
              "                                              presort='deprecated',\n",
              "                                              random_state=100,\n",
              "                                              splitter='best'),\n",
              "             iid='deprecated', n_jobs=None,\n",
              "             param_grid={'max_depth': range(1, 40)}, pre_dispatch='2*n_jobs',\n",
              "             refit=True, return_train_score=True, scoring='accuracy',\n",
              "             verbose=0)"
            ]
          },
          "metadata": {},
          "execution_count": 35
        }
      ]
    },
    {
      "cell_type": "code",
      "metadata": {
        "colab": {
          "base_uri": "https://localhost:8080/"
        },
        "id": "3G4qvKgrAORh",
        "outputId": "770fb464-0eb1-4898-8187-d0dfdc1bb8bf"
      },
      "source": [
        "\n",
        "# scores of GridSearch CV\n",
        "scores = tree.cv_results_\n",
        "print(pd.DataFrame(scores).head())\n"
      ],
      "execution_count": 36,
      "outputs": [
        {
          "output_type": "stream",
          "name": "stdout",
          "text": [
            "   mean_fit_time  std_fit_time  ...  mean_train_score  std_train_score\n",
            "0       0.004262      0.000230  ...          0.894537         0.000225\n",
            "1       0.005309      0.000155  ...          0.909522         0.003692\n",
            "2       0.006450      0.000068  ...          0.919480         0.001243\n",
            "3       0.008139      0.000293  ...          0.927826         0.002404\n",
            "4       0.009145      0.000366  ...          0.939966         0.001998\n",
            "\n",
            "[5 rows x 21 columns]\n"
          ]
        }
      ]
    },
    {
      "cell_type": "code",
      "metadata": {
        "colab": {
          "base_uri": "https://localhost:8080/",
          "height": 622
        },
        "id": "6oA6JEqdAQgO",
        "outputId": "f6b28482-6f50-4fd1-ff62-ac02da6617fe"
      },
      "source": [
        "\n",
        "# plotting accuracies with max_depth\n",
        "plt.figure(figsize=(15,10))\n",
        "plt.plot(scores[\"param_max_depth\"], \n",
        "         scores[\"mean_train_score\"], \n",
        "         label=\"training accuracy\")\n",
        "plt.plot(scores[\"param_max_depth\"], \n",
        "         scores[\"mean_test_score\"], \n",
        "         label=\"test accuracy\")\n",
        "plt.xlabel(\"max_depth\")\n",
        "plt.ylabel(\"Accuracy\")\n",
        "plt.legend()\n",
        "plt.show()\n",
        "plt.savefig('hyperparam_c.png') \n"
      ],
      "execution_count": 37,
      "outputs": [
        {
          "output_type": "display_data",
          "data": {
            "image/png": "[encoded data removed]",
            "text/plain": [
              "<Figure size 1080x720 with 1 Axes>"
            ]
          },
          "metadata": {
            "needs_background": "light"
          }
        },
        {
          "output_type": "display_data",
          "data": {
            "text/plain": [
              "<Figure size 432x288 with 0 Axes>"
            ]
          },
          "metadata": {}
        }
      ]
    },
    {
      "cell_type": "code",
      "metadata": {
        "colab": {
          "base_uri": "https://localhost:8080/"
        },
        "id": "EUN7fw1pAShA",
        "outputId": "2c7b752b-8b7f-4100-fd23-4d0337b53363"
      },
      "source": [
        "\n",
        "# create DT with optimal max_depth\n",
        "best_tree = DecisionTreeClassifier(max_depth=4)\n",
        "best_tree.fit(x_train, y_train)\n",
        "\n",
        "# make predictions\n",
        "print(bank_test.head())\n",
        "predictions = best_tree.predict(bank_test)\n",
        "print(predictions[:5])\n",
        "\n"
      ],
      "execution_count": 38,
      "outputs": [
        {
          "output_type": "stream",
          "name": "stdout",
          "text": [
            "      age  duration  campaign  pdays  ...  contact  month  day_of_week  poutcome\n",
            "983    58        79         2    999  ...        0      4            3         1\n",
            "33     45       226         1    999  ...        0      1            1         1\n",
            "2047   45       527         1    999  ...        0      7            1         1\n",
            "2427   59       422         3    999  ...        1      6            2         1\n",
            "578    34       145         1    999  ...        0      1            1         1\n",
            "\n",
            "[5 rows x 21 columns]\n",
            "[0 0 0 0 0]\n"
          ]
        }
      ]
    },
    {
      "cell_type": "code",
      "metadata": {
        "colab": {
          "base_uri": "https://localhost:8080/",
          "height": 204
        },
        "id": "Koy_w2pvAVJm",
        "outputId": "c85ca742-3bcb-4aa4-d73c-6449aaf6d3ec"
      },
      "source": [
        "\n",
        "# write columns id, predictions into the output file\n",
        "d = pd.DataFrame({'id': bank_test['id'], 'bank_predicted': predictions})\n",
        "d.head()\n",
        "\n",
        "# # write the output\n",
        "#d.to_csv('/code/output/bank_predictions.csv', sep=\",\")"
      ],
      "execution_count": 40,
      "outputs": [
        {
          "output_type": "execute_result",
          "data": {
            "text/html": [
              "<div>\n",
              "<style scoped>\n",
              "    .dataframe tbody tr th:only-of-type {\n",
              "        vertical-align: middle;\n",
              "    }\n",
              "\n",
              "    .dataframe tbody tr th {\n",
              "        vertical-align: top;\n",
              "    }\n",
              "\n",
              "    .dataframe thead th {\n",
              "        text-align: right;\n",
              "    }\n",
              "</style>\n",
              "<table border=\"1\" class=\"dataframe\">\n",
              "  <thead>\n",
              "    <tr style=\"text-align: right;\">\n",
              "      <th></th>\n",
              "      <th>id</th>\n",
              "      <th>bank_predicted</th>\n",
              "    </tr>\n",
              "  </thead>\n",
              "  <tbody>\n",
              "    <tr>\n",
              "      <th>983</th>\n",
              "      <td>3381</td>\n",
              "      <td>0</td>\n",
              "    </tr>\n",
              "    <tr>\n",
              "      <th>33</th>\n",
              "      <td>2102</td>\n",
              "      <td>0</td>\n",
              "    </tr>\n",
              "    <tr>\n",
              "      <th>2047</th>\n",
              "      <td>2729</td>\n",
              "      <td>0</td>\n",
              "    </tr>\n",
              "    <tr>\n",
              "      <th>2427</th>\n",
              "      <td>945</td>\n",
              "      <td>0</td>\n",
              "    </tr>\n",
              "    <tr>\n",
              "      <th>578</th>\n",
              "      <td>1886</td>\n",
              "      <td>0</td>\n",
              "    </tr>\n",
              "  </tbody>\n",
              "</table>\n",
              "</div>"
            ],
            "text/plain": [
              "        id  bank_predicted\n",
              "983   3381               0\n",
              "33    2102               0\n",
              "2047  2729               0\n",
              "2427   945               0\n",
              "578   1886               0"
            ]
          },
          "metadata": {},
          "execution_count": 40
        }
      ]
    },
    {
      "cell_type": "code",
      "metadata": {
        "colab": {
          "base_uri": "https://localhost:8080/"
        },
        "id": "5qKSLnK3Gr4v",
        "outputId": "fcf3da8d-0feb-4a10-cfd6-0a9370c082e1"
      },
      "source": [
        "print(bank.loc[bank['id'] == 3381, 'purchased'])\n",
        "print(bank.loc[bank['id'] == 2102, 'purchased'])\n",
        "print(bank.loc[bank['id'] == 945, 'purchased'])"
      ],
      "execution_count": 54,
      "outputs": [
        {
          "output_type": "stream",
          "name": "stdout",
          "text": [
            "983    0\n",
            "Name: purchased, dtype: int64\n",
            "33    0\n",
            "Name: purchased, dtype: int64\n",
            "2427    0\n",
            "Name: purchased, dtype: int64\n"
          ]
        }
      ]
    },
    {
      "cell_type": "markdown",
      "metadata": {
        "id": "A0lp7JbKJba7"
      },
      "source": [
        "Thus, we have done a pretty decent job of predicting those that have purchased or haven't from amongst the entire dataset, using simple Decision Tree with k_fold validation and Grid Search CV used in tandem.\n"
      ]
    },
    {
      "cell_type": "code",
      "metadata": {
        "id": "4Zm_vYtYJcS7"
      },
      "source": [
        ""
      ],
      "execution_count": null,
      "outputs": []
    }
  ]
}