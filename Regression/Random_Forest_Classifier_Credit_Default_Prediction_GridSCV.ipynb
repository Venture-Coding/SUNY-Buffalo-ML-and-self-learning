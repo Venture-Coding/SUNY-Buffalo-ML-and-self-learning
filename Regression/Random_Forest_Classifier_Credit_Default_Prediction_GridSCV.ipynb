{
  "nbformat": 4,
  "nbformat_minor": 0,
  "metadata": {
    "kernelspec": {
      "display_name": "Python 3",
      "language": "python",
      "name": "python3"
    },
    "language_info": {
      "codemirror_mode": {
        "name": "ipython",
        "version": 3
      },
      "file_extension": ".py",
      "mimetype": "text/x-python",
      "name": "python",
      "nbconvert_exporter": "python",
      "pygments_lexer": "ipython3",
      "version": "3.5.2"
    },
    "colab": {
      "name": "Random_Forest_Classifier_Credit_Default_Prediction_GridSCV.ipynb",
      "provenance": [],
      "collapsed_sections": [
        "WcF5hvGKgNAp",
        "DmAMt4jHgNAr",
        "10EXdCHegNAx",
        "64RgR761gNAy",
        "J9atr6xKgNA0"
      ],
      "include_colab_link": true
    }
  },
  "cells": [
    {
      "cell_type": "markdown",
      "metadata": {
        "id": "view-in-github",
        "colab_type": "text"
      },
      "source": [
        "<a href=\"https://colab.research.google.com/github/Venture-Coding/SUNY-Buffalo-ML-and-self-learning/blob/main/Regression/Random_Forest_Classifier_Credit_Default_Prediction_GridSCV.ipynb\" target=\"_parent\"><img src=\"https://colab.research.google.com/assets/colab-badge.svg\" alt=\"Open In Colab\"/></a>"
      ]
    },
    {
      "cell_type": "markdown",
      "metadata": {
        "id": "eXOa9Cy2gNAT"
      },
      "source": [
        "## Random Forest - Credit Default Prediction"
      ]
    },
    {
      "cell_type": "markdown",
      "metadata": {
        "id": "uQizKfvUgNAZ"
      },
      "source": [
        "In this lab, we will build a random forest model to predict whether a given customer defaults or not. Credit default is one of the most important problems in the banking and risk analytics industry. There are various attributes which can be used to predict default, such as demographic data (age, income, employment status, etc.), (credit) behavioural data (past loans, payment, number of times a credit payment has been delayed by the customer etc.).\n",
        "\n",
        "We'll start the process with data cleaning and preparation and then tune the model to find optimal hyperparameters."
      ]
    },
    {
      "cell_type": "markdown",
      "metadata": {
        "id": "yeIbFPpKgNAb"
      },
      "source": [
        "<hr>"
      ]
    },
    {
      "cell_type": "markdown",
      "metadata": {
        "id": "dEzTTvvzgNAb"
      },
      "source": [
        "### Data Understanding and Cleaning"
      ]
    },
    {
      "cell_type": "code",
      "metadata": {
        "id": "FQDjn3urgNAc"
      },
      "source": [
        "# Importing the required libraries\n",
        "import pandas as pd\n",
        "import numpy as np\n",
        "import matplotlib.pyplot as plt\n",
        "import seaborn as sns\n",
        "%matplotlib inline\n",
        "\n",
        "# To ignore warnings\n",
        "import warnings\n",
        "warnings.filterwarnings(\"ignore\")"
      ],
      "execution_count": 47,
      "outputs": []
    },
    {
      "cell_type": "code",
      "metadata": {
        "colab": {
          "base_uri": "https://localhost:8080/",
          "height": 411
        },
        "id": "Vs7up8bDgNAe",
        "outputId": "66720cb2-2bf4-4944-f0d7-1ef6f73168ce"
      },
      "source": [
        "# Reading the csv file and putting it into 'df' object.\n",
        "df = pd.read_csv('credit-card-default.csv')\n",
        "df.head()"
      ],
      "execution_count": 48,
      "outputs": [
        {
          "output_type": "execute_result",
          "data": {
            "text/html": [
              "<div>\n",
              "<style scoped>\n",
              "    .dataframe tbody tr th:only-of-type {\n",
              "        vertical-align: middle;\n",
              "    }\n",
              "\n",
              "    .dataframe tbody tr th {\n",
              "        vertical-align: top;\n",
              "    }\n",
              "\n",
              "    .dataframe thead th {\n",
              "        text-align: right;\n",
              "    }\n",
              "</style>\n",
              "<table border=\"1\" class=\"dataframe\">\n",
              "  <thead>\n",
              "    <tr style=\"text-align: right;\">\n",
              "      <th></th>\n",
              "      <th>ID</th>\n",
              "      <th>LIMIT_BAL</th>\n",
              "      <th>SEX</th>\n",
              "      <th>EDUCATION</th>\n",
              "      <th>MARRIAGE</th>\n",
              "      <th>AGE</th>\n",
              "      <th>PAY_0</th>\n",
              "      <th>PAY_2</th>\n",
              "      <th>PAY_3</th>\n",
              "      <th>PAY_4</th>\n",
              "      <th>PAY_5</th>\n",
              "      <th>PAY_6</th>\n",
              "      <th>BILL_AMT1</th>\n",
              "      <th>BILL_AMT2</th>\n",
              "      <th>BILL_AMT3</th>\n",
              "      <th>BILL_AMT4</th>\n",
              "      <th>BILL_AMT5</th>\n",
              "      <th>BILL_AMT6</th>\n",
              "      <th>PAY_AMT1</th>\n",
              "      <th>PAY_AMT2</th>\n",
              "      <th>PAY_AMT3</th>\n",
              "      <th>PAY_AMT4</th>\n",
              "      <th>PAY_AMT5</th>\n",
              "      <th>PAY_AMT6</th>\n",
              "      <th>defaulted</th>\n",
              "    </tr>\n",
              "  </thead>\n",
              "  <tbody>\n",
              "    <tr>\n",
              "      <th>0</th>\n",
              "      <td>1</td>\n",
              "      <td>20000</td>\n",
              "      <td>2</td>\n",
              "      <td>2</td>\n",
              "      <td>1</td>\n",
              "      <td>24</td>\n",
              "      <td>2</td>\n",
              "      <td>2</td>\n",
              "      <td>-1</td>\n",
              "      <td>-1</td>\n",
              "      <td>-2</td>\n",
              "      <td>-2</td>\n",
              "      <td>3913</td>\n",
              "      <td>3102</td>\n",
              "      <td>689</td>\n",
              "      <td>0</td>\n",
              "      <td>0</td>\n",
              "      <td>0</td>\n",
              "      <td>0</td>\n",
              "      <td>689</td>\n",
              "      <td>0</td>\n",
              "      <td>0</td>\n",
              "      <td>0</td>\n",
              "      <td>0</td>\n",
              "      <td>1</td>\n",
              "    </tr>\n",
              "    <tr>\n",
              "      <th>1</th>\n",
              "      <td>2</td>\n",
              "      <td>120000</td>\n",
              "      <td>2</td>\n",
              "      <td>2</td>\n",
              "      <td>2</td>\n",
              "      <td>26</td>\n",
              "      <td>-1</td>\n",
              "      <td>2</td>\n",
              "      <td>0</td>\n",
              "      <td>0</td>\n",
              "      <td>0</td>\n",
              "      <td>2</td>\n",
              "      <td>2682</td>\n",
              "      <td>1725</td>\n",
              "      <td>2682</td>\n",
              "      <td>3272</td>\n",
              "      <td>3455</td>\n",
              "      <td>3261</td>\n",
              "      <td>0</td>\n",
              "      <td>1000</td>\n",
              "      <td>1000</td>\n",
              "      <td>1000</td>\n",
              "      <td>0</td>\n",
              "      <td>2000</td>\n",
              "      <td>1</td>\n",
              "    </tr>\n",
              "    <tr>\n",
              "      <th>2</th>\n",
              "      <td>3</td>\n",
              "      <td>90000</td>\n",
              "      <td>2</td>\n",
              "      <td>2</td>\n",
              "      <td>2</td>\n",
              "      <td>34</td>\n",
              "      <td>0</td>\n",
              "      <td>0</td>\n",
              "      <td>0</td>\n",
              "      <td>0</td>\n",
              "      <td>0</td>\n",
              "      <td>0</td>\n",
              "      <td>29239</td>\n",
              "      <td>14027</td>\n",
              "      <td>13559</td>\n",
              "      <td>14331</td>\n",
              "      <td>14948</td>\n",
              "      <td>15549</td>\n",
              "      <td>1518</td>\n",
              "      <td>1500</td>\n",
              "      <td>1000</td>\n",
              "      <td>1000</td>\n",
              "      <td>1000</td>\n",
              "      <td>5000</td>\n",
              "      <td>0</td>\n",
              "    </tr>\n",
              "    <tr>\n",
              "      <th>3</th>\n",
              "      <td>4</td>\n",
              "      <td>50000</td>\n",
              "      <td>2</td>\n",
              "      <td>2</td>\n",
              "      <td>1</td>\n",
              "      <td>37</td>\n",
              "      <td>0</td>\n",
              "      <td>0</td>\n",
              "      <td>0</td>\n",
              "      <td>0</td>\n",
              "      <td>0</td>\n",
              "      <td>0</td>\n",
              "      <td>46990</td>\n",
              "      <td>48233</td>\n",
              "      <td>49291</td>\n",
              "      <td>28314</td>\n",
              "      <td>28959</td>\n",
              "      <td>29547</td>\n",
              "      <td>2000</td>\n",
              "      <td>2019</td>\n",
              "      <td>1200</td>\n",
              "      <td>1100</td>\n",
              "      <td>1069</td>\n",
              "      <td>1000</td>\n",
              "      <td>0</td>\n",
              "    </tr>\n",
              "    <tr>\n",
              "      <th>4</th>\n",
              "      <td>5</td>\n",
              "      <td>50000</td>\n",
              "      <td>1</td>\n",
              "      <td>2</td>\n",
              "      <td>1</td>\n",
              "      <td>57</td>\n",
              "      <td>-1</td>\n",
              "      <td>0</td>\n",
              "      <td>-1</td>\n",
              "      <td>0</td>\n",
              "      <td>0</td>\n",
              "      <td>0</td>\n",
              "      <td>8617</td>\n",
              "      <td>5670</td>\n",
              "      <td>35835</td>\n",
              "      <td>20940</td>\n",
              "      <td>19146</td>\n",
              "      <td>19131</td>\n",
              "      <td>2000</td>\n",
              "      <td>36681</td>\n",
              "      <td>10000</td>\n",
              "      <td>9000</td>\n",
              "      <td>689</td>\n",
              "      <td>679</td>\n",
              "      <td>0</td>\n",
              "    </tr>\n",
              "  </tbody>\n",
              "</table>\n",
              "</div>"
            ],
            "text/plain": [
              "   ID  LIMIT_BAL  SEX  EDUCATION  ...  PAY_AMT4  PAY_AMT5  PAY_AMT6  defaulted\n",
              "0   1      20000    2          2  ...         0         0         0          1\n",
              "1   2     120000    2          2  ...      1000         0      2000          1\n",
              "2   3      90000    2          2  ...      1000      1000      5000          0\n",
              "3   4      50000    2          2  ...      1100      1069      1000          0\n",
              "4   5      50000    1          2  ...      9000       689       679          0\n",
              "\n",
              "[5 rows x 25 columns]"
            ]
          },
          "metadata": {},
          "execution_count": 36
        },
        {
          "output_type": "execute_result",
          "data": {
            "text/html": [
              "<div>\n",
              "<style scoped>\n",
              "    .dataframe tbody tr th:only-of-type {\n",
              "        vertical-align: middle;\n",
              "    }\n",
              "\n",
              "    .dataframe tbody tr th {\n",
              "        vertical-align: top;\n",
              "    }\n",
              "\n",
              "    .dataframe thead th {\n",
              "        text-align: right;\n",
              "    }\n",
              "</style>\n",
              "<table border=\"1\" class=\"dataframe\">\n",
              "  <thead>\n",
              "    <tr style=\"text-align: right;\">\n",
              "      <th></th>\n",
              "      <th>ID</th>\n",
              "      <th>LIMIT_BAL</th>\n",
              "      <th>SEX</th>\n",
              "      <th>EDUCATION</th>\n",
              "      <th>MARRIAGE</th>\n",
              "      <th>AGE</th>\n",
              "      <th>PAY_0</th>\n",
              "      <th>PAY_2</th>\n",
              "      <th>PAY_3</th>\n",
              "      <th>PAY_4</th>\n",
              "      <th>PAY_5</th>\n",
              "      <th>PAY_6</th>\n",
              "      <th>BILL_AMT1</th>\n",
              "      <th>BILL_AMT2</th>\n",
              "      <th>BILL_AMT3</th>\n",
              "      <th>BILL_AMT4</th>\n",
              "      <th>BILL_AMT5</th>\n",
              "      <th>BILL_AMT6</th>\n",
              "      <th>PAY_AMT1</th>\n",
              "      <th>PAY_AMT2</th>\n",
              "      <th>PAY_AMT3</th>\n",
              "      <th>PAY_AMT4</th>\n",
              "      <th>PAY_AMT5</th>\n",
              "      <th>PAY_AMT6</th>\n",
              "      <th>defaulted</th>\n",
              "    </tr>\n",
              "  </thead>\n",
              "  <tbody>\n",
              "    <tr>\n",
              "      <th>0</th>\n",
              "      <td>1</td>\n",
              "      <td>20000</td>\n",
              "      <td>2</td>\n",
              "      <td>2</td>\n",
              "      <td>1</td>\n",
              "      <td>24</td>\n",
              "      <td>2</td>\n",
              "      <td>2</td>\n",
              "      <td>-1</td>\n",
              "      <td>-1</td>\n",
              "      <td>-2</td>\n",
              "      <td>-2</td>\n",
              "      <td>3913</td>\n",
              "      <td>3102</td>\n",
              "      <td>689</td>\n",
              "      <td>0</td>\n",
              "      <td>0</td>\n",
              "      <td>0</td>\n",
              "      <td>0</td>\n",
              "      <td>689</td>\n",
              "      <td>0</td>\n",
              "      <td>0</td>\n",
              "      <td>0</td>\n",
              "      <td>0</td>\n",
              "      <td>1</td>\n",
              "    </tr>\n",
              "    <tr>\n",
              "      <th>1</th>\n",
              "      <td>2</td>\n",
              "      <td>120000</td>\n",
              "      <td>2</td>\n",
              "      <td>2</td>\n",
              "      <td>2</td>\n",
              "      <td>26</td>\n",
              "      <td>-1</td>\n",
              "      <td>2</td>\n",
              "      <td>0</td>\n",
              "      <td>0</td>\n",
              "      <td>0</td>\n",
              "      <td>2</td>\n",
              "      <td>2682</td>\n",
              "      <td>1725</td>\n",
              "      <td>2682</td>\n",
              "      <td>3272</td>\n",
              "      <td>3455</td>\n",
              "      <td>3261</td>\n",
              "      <td>0</td>\n",
              "      <td>1000</td>\n",
              "      <td>1000</td>\n",
              "      <td>1000</td>\n",
              "      <td>0</td>\n",
              "      <td>2000</td>\n",
              "      <td>1</td>\n",
              "    </tr>\n",
              "    <tr>\n",
              "      <th>2</th>\n",
              "      <td>3</td>\n",
              "      <td>90000</td>\n",
              "      <td>2</td>\n",
              "      <td>2</td>\n",
              "      <td>2</td>\n",
              "      <td>34</td>\n",
              "      <td>0</td>\n",
              "      <td>0</td>\n",
              "      <td>0</td>\n",
              "      <td>0</td>\n",
              "      <td>0</td>\n",
              "      <td>0</td>\n",
              "      <td>29239</td>\n",
              "      <td>14027</td>\n",
              "      <td>13559</td>\n",
              "      <td>14331</td>\n",
              "      <td>14948</td>\n",
              "      <td>15549</td>\n",
              "      <td>1518</td>\n",
              "      <td>1500</td>\n",
              "      <td>1000</td>\n",
              "      <td>1000</td>\n",
              "      <td>1000</td>\n",
              "      <td>5000</td>\n",
              "      <td>0</td>\n",
              "    </tr>\n",
              "    <tr>\n",
              "      <th>3</th>\n",
              "      <td>4</td>\n",
              "      <td>50000</td>\n",
              "      <td>2</td>\n",
              "      <td>2</td>\n",
              "      <td>1</td>\n",
              "      <td>37</td>\n",
              "      <td>0</td>\n",
              "      <td>0</td>\n",
              "      <td>0</td>\n",
              "      <td>0</td>\n",
              "      <td>0</td>\n",
              "      <td>0</td>\n",
              "      <td>46990</td>\n",
              "      <td>48233</td>\n",
              "      <td>49291</td>\n",
              "      <td>28314</td>\n",
              "      <td>28959</td>\n",
              "      <td>29547</td>\n",
              "      <td>2000</td>\n",
              "      <td>2019</td>\n",
              "      <td>1200</td>\n",
              "      <td>1100</td>\n",
              "      <td>1069</td>\n",
              "      <td>1000</td>\n",
              "      <td>0</td>\n",
              "    </tr>\n",
              "    <tr>\n",
              "      <th>4</th>\n",
              "      <td>5</td>\n",
              "      <td>50000</td>\n",
              "      <td>1</td>\n",
              "      <td>2</td>\n",
              "      <td>1</td>\n",
              "      <td>57</td>\n",
              "      <td>-1</td>\n",
              "      <td>0</td>\n",
              "      <td>-1</td>\n",
              "      <td>0</td>\n",
              "      <td>0</td>\n",
              "      <td>0</td>\n",
              "      <td>8617</td>\n",
              "      <td>5670</td>\n",
              "      <td>35835</td>\n",
              "      <td>20940</td>\n",
              "      <td>19146</td>\n",
              "      <td>19131</td>\n",
              "      <td>2000</td>\n",
              "      <td>36681</td>\n",
              "      <td>10000</td>\n",
              "      <td>9000</td>\n",
              "      <td>689</td>\n",
              "      <td>679</td>\n",
              "      <td>0</td>\n",
              "    </tr>\n",
              "  </tbody>\n",
              "</table>\n",
              "</div>"
            ],
            "text/plain": [
              "   ID  LIMIT_BAL  SEX  EDUCATION  ...  PAY_AMT4  PAY_AMT5  PAY_AMT6  defaulted\n",
              "0   1      20000    2          2  ...         0         0         0          1\n",
              "1   2     120000    2          2  ...      1000         0      2000          1\n",
              "2   3      90000    2          2  ...      1000      1000      5000          0\n",
              "3   4      50000    2          2  ...      1100      1069      1000          0\n",
              "4   5      50000    1          2  ...      9000       689       679          0\n",
              "\n",
              "[5 rows x 25 columns]"
            ]
          },
          "metadata": {},
          "execution_count": 48
        }
      ]
    },
    {
      "cell_type": "code",
      "metadata": {
        "scrolled": true,
        "colab": {
          "base_uri": "https://localhost:8080/"
        },
        "id": "9NGKPftGgNAg",
        "outputId": "34b89913-540a-4cc0-d1df-0d1286e43e40"
      },
      "source": [
        "# Let's understand the type of columns\n",
        "df.info()"
      ],
      "execution_count": 49,
      "outputs": [
        {
          "output_type": "stream",
          "name": "stdout",
          "text": [
            "<class 'pandas.core.frame.DataFrame'>\n",
            "RangeIndex: 30000 entries, 0 to 29999\n",
            "Data columns (total 25 columns):\n",
            " #   Column     Non-Null Count  Dtype\n",
            "---  ------     --------------  -----\n",
            " 0   ID         30000 non-null  int64\n",
            " 1   LIMIT_BAL  30000 non-null  int64\n",
            " 2   SEX        30000 non-null  int64\n",
            " 3   EDUCATION  30000 non-null  int64\n",
            " 4   MARRIAGE   30000 non-null  int64\n",
            " 5   AGE        30000 non-null  int64\n",
            " 6   PAY_0      30000 non-null  int64\n",
            " 7   PAY_2      30000 non-null  int64\n",
            " 8   PAY_3      30000 non-null  int64\n",
            " 9   PAY_4      30000 non-null  int64\n",
            " 10  PAY_5      30000 non-null  int64\n",
            " 11  PAY_6      30000 non-null  int64\n",
            " 12  BILL_AMT1  30000 non-null  int64\n",
            " 13  BILL_AMT2  30000 non-null  int64\n",
            " 14  BILL_AMT3  30000 non-null  int64\n",
            " 15  BILL_AMT4  30000 non-null  int64\n",
            " 16  BILL_AMT5  30000 non-null  int64\n",
            " 17  BILL_AMT6  30000 non-null  int64\n",
            " 18  PAY_AMT1   30000 non-null  int64\n",
            " 19  PAY_AMT2   30000 non-null  int64\n",
            " 20  PAY_AMT3   30000 non-null  int64\n",
            " 21  PAY_AMT4   30000 non-null  int64\n",
            " 22  PAY_AMT5   30000 non-null  int64\n",
            " 23  PAY_AMT6   30000 non-null  int64\n",
            " 24  defaulted  30000 non-null  int64\n",
            "dtypes: int64(25)\n",
            "memory usage: 5.7 MB\n",
            "<class 'pandas.core.frame.DataFrame'>\n",
            "RangeIndex: 30000 entries, 0 to 29999\n",
            "Data columns (total 25 columns):\n",
            " #   Column     Non-Null Count  Dtype\n",
            "---  ------     --------------  -----\n",
            " 0   ID         30000 non-null  int64\n",
            " 1   LIMIT_BAL  30000 non-null  int64\n",
            " 2   SEX        30000 non-null  int64\n",
            " 3   EDUCATION  30000 non-null  int64\n",
            " 4   MARRIAGE   30000 non-null  int64\n",
            " 5   AGE        30000 non-null  int64\n",
            " 6   PAY_0      30000 non-null  int64\n",
            " 7   PAY_2      30000 non-null  int64\n",
            " 8   PAY_3      30000 non-null  int64\n",
            " 9   PAY_4      30000 non-null  int64\n",
            " 10  PAY_5      30000 non-null  int64\n",
            " 11  PAY_6      30000 non-null  int64\n",
            " 12  BILL_AMT1  30000 non-null  int64\n",
            " 13  BILL_AMT2  30000 non-null  int64\n",
            " 14  BILL_AMT3  30000 non-null  int64\n",
            " 15  BILL_AMT4  30000 non-null  int64\n",
            " 16  BILL_AMT5  30000 non-null  int64\n",
            " 17  BILL_AMT6  30000 non-null  int64\n",
            " 18  PAY_AMT1   30000 non-null  int64\n",
            " 19  PAY_AMT2   30000 non-null  int64\n",
            " 20  PAY_AMT3   30000 non-null  int64\n",
            " 21  PAY_AMT4   30000 non-null  int64\n",
            " 22  PAY_AMT5   30000 non-null  int64\n",
            " 23  PAY_AMT6   30000 non-null  int64\n",
            " 24  defaulted  30000 non-null  int64\n",
            "dtypes: int64(25)\n",
            "memory usage: 5.7 MB\n"
          ]
        }
      ]
    },
    {
      "cell_type": "markdown",
      "metadata": {
        "id": "81FI7XL8gNAh"
      },
      "source": [
        "In this case, we know that there are no major data quality issues, so we'll go ahead and build the model."
      ]
    },
    {
      "cell_type": "markdown",
      "metadata": {
        "id": "L-Y2K5LKgNAi"
      },
      "source": [
        "<hr>"
      ]
    },
    {
      "cell_type": "code",
      "metadata": {
        "colab": {
          "base_uri": "https://localhost:8080/"
        },
        "id": "twOh8EJtip3Q",
        "outputId": "b8c40902-9628-4829-8fb0-0d06c0e4bf37"
      },
      "source": [
        "df.info()"
      ],
      "execution_count": 50,
      "outputs": [
        {
          "output_type": "stream",
          "name": "stdout",
          "text": [
            "<class 'pandas.core.frame.DataFrame'>\n",
            "RangeIndex: 30000 entries, 0 to 29999\n",
            "Data columns (total 25 columns):\n",
            " #   Column     Non-Null Count  Dtype\n",
            "---  ------     --------------  -----\n",
            " 0   ID         30000 non-null  int64\n",
            " 1   LIMIT_BAL  30000 non-null  int64\n",
            " 2   SEX        30000 non-null  int64\n",
            " 3   EDUCATION  30000 non-null  int64\n",
            " 4   MARRIAGE   30000 non-null  int64\n",
            " 5   AGE        30000 non-null  int64\n",
            " 6   PAY_0      30000 non-null  int64\n",
            " 7   PAY_2      30000 non-null  int64\n",
            " 8   PAY_3      30000 non-null  int64\n",
            " 9   PAY_4      30000 non-null  int64\n",
            " 10  PAY_5      30000 non-null  int64\n",
            " 11  PAY_6      30000 non-null  int64\n",
            " 12  BILL_AMT1  30000 non-null  int64\n",
            " 13  BILL_AMT2  30000 non-null  int64\n",
            " 14  BILL_AMT3  30000 non-null  int64\n",
            " 15  BILL_AMT4  30000 non-null  int64\n",
            " 16  BILL_AMT5  30000 non-null  int64\n",
            " 17  BILL_AMT6  30000 non-null  int64\n",
            " 18  PAY_AMT1   30000 non-null  int64\n",
            " 19  PAY_AMT2   30000 non-null  int64\n",
            " 20  PAY_AMT3   30000 non-null  int64\n",
            " 21  PAY_AMT4   30000 non-null  int64\n",
            " 22  PAY_AMT5   30000 non-null  int64\n",
            " 23  PAY_AMT6   30000 non-null  int64\n",
            " 24  defaulted  30000 non-null  int64\n",
            "dtypes: int64(25)\n",
            "memory usage: 5.7 MB\n"
          ]
        }
      ]
    },
    {
      "cell_type": "markdown",
      "metadata": {
        "id": "QKdr2w22it0x"
      },
      "source": [
        "Now we've removed the single row with NaN values, had there been more rows, we could have used one of the many ways to fill NaN values. But not req here."
      ]
    },
    {
      "cell_type": "markdown",
      "metadata": {
        "id": "6kAs0ilAgNAj"
      },
      "source": [
        "### Data Preparation and Model Building"
      ]
    },
    {
      "cell_type": "code",
      "metadata": {
        "colab": {
          "base_uri": "https://localhost:8080/",
          "height": 224
        },
        "id": "H3z874PIgNAk",
        "outputId": "89201ec7-d2f1-4e1a-c578-cd41759724aa"
      },
      "source": [
        "# Importing test_train_split from sklearn library\n",
        "from sklearn.model_selection import train_test_split\n",
        "df.head()"
      ],
      "execution_count": 51,
      "outputs": [
        {
          "output_type": "execute_result",
          "data": {
            "text/html": [
              "<div>\n",
              "<style scoped>\n",
              "    .dataframe tbody tr th:only-of-type {\n",
              "        vertical-align: middle;\n",
              "    }\n",
              "\n",
              "    .dataframe tbody tr th {\n",
              "        vertical-align: top;\n",
              "    }\n",
              "\n",
              "    .dataframe thead th {\n",
              "        text-align: right;\n",
              "    }\n",
              "</style>\n",
              "<table border=\"1\" class=\"dataframe\">\n",
              "  <thead>\n",
              "    <tr style=\"text-align: right;\">\n",
              "      <th></th>\n",
              "      <th>ID</th>\n",
              "      <th>LIMIT_BAL</th>\n",
              "      <th>SEX</th>\n",
              "      <th>EDUCATION</th>\n",
              "      <th>MARRIAGE</th>\n",
              "      <th>AGE</th>\n",
              "      <th>PAY_0</th>\n",
              "      <th>PAY_2</th>\n",
              "      <th>PAY_3</th>\n",
              "      <th>PAY_4</th>\n",
              "      <th>PAY_5</th>\n",
              "      <th>PAY_6</th>\n",
              "      <th>BILL_AMT1</th>\n",
              "      <th>BILL_AMT2</th>\n",
              "      <th>BILL_AMT3</th>\n",
              "      <th>BILL_AMT4</th>\n",
              "      <th>BILL_AMT5</th>\n",
              "      <th>BILL_AMT6</th>\n",
              "      <th>PAY_AMT1</th>\n",
              "      <th>PAY_AMT2</th>\n",
              "      <th>PAY_AMT3</th>\n",
              "      <th>PAY_AMT4</th>\n",
              "      <th>PAY_AMT5</th>\n",
              "      <th>PAY_AMT6</th>\n",
              "      <th>defaulted</th>\n",
              "    </tr>\n",
              "  </thead>\n",
              "  <tbody>\n",
              "    <tr>\n",
              "      <th>0</th>\n",
              "      <td>1</td>\n",
              "      <td>20000</td>\n",
              "      <td>2</td>\n",
              "      <td>2</td>\n",
              "      <td>1</td>\n",
              "      <td>24</td>\n",
              "      <td>2</td>\n",
              "      <td>2</td>\n",
              "      <td>-1</td>\n",
              "      <td>-1</td>\n",
              "      <td>-2</td>\n",
              "      <td>-2</td>\n",
              "      <td>3913</td>\n",
              "      <td>3102</td>\n",
              "      <td>689</td>\n",
              "      <td>0</td>\n",
              "      <td>0</td>\n",
              "      <td>0</td>\n",
              "      <td>0</td>\n",
              "      <td>689</td>\n",
              "      <td>0</td>\n",
              "      <td>0</td>\n",
              "      <td>0</td>\n",
              "      <td>0</td>\n",
              "      <td>1</td>\n",
              "    </tr>\n",
              "    <tr>\n",
              "      <th>1</th>\n",
              "      <td>2</td>\n",
              "      <td>120000</td>\n",
              "      <td>2</td>\n",
              "      <td>2</td>\n",
              "      <td>2</td>\n",
              "      <td>26</td>\n",
              "      <td>-1</td>\n",
              "      <td>2</td>\n",
              "      <td>0</td>\n",
              "      <td>0</td>\n",
              "      <td>0</td>\n",
              "      <td>2</td>\n",
              "      <td>2682</td>\n",
              "      <td>1725</td>\n",
              "      <td>2682</td>\n",
              "      <td>3272</td>\n",
              "      <td>3455</td>\n",
              "      <td>3261</td>\n",
              "      <td>0</td>\n",
              "      <td>1000</td>\n",
              "      <td>1000</td>\n",
              "      <td>1000</td>\n",
              "      <td>0</td>\n",
              "      <td>2000</td>\n",
              "      <td>1</td>\n",
              "    </tr>\n",
              "    <tr>\n",
              "      <th>2</th>\n",
              "      <td>3</td>\n",
              "      <td>90000</td>\n",
              "      <td>2</td>\n",
              "      <td>2</td>\n",
              "      <td>2</td>\n",
              "      <td>34</td>\n",
              "      <td>0</td>\n",
              "      <td>0</td>\n",
              "      <td>0</td>\n",
              "      <td>0</td>\n",
              "      <td>0</td>\n",
              "      <td>0</td>\n",
              "      <td>29239</td>\n",
              "      <td>14027</td>\n",
              "      <td>13559</td>\n",
              "      <td>14331</td>\n",
              "      <td>14948</td>\n",
              "      <td>15549</td>\n",
              "      <td>1518</td>\n",
              "      <td>1500</td>\n",
              "      <td>1000</td>\n",
              "      <td>1000</td>\n",
              "      <td>1000</td>\n",
              "      <td>5000</td>\n",
              "      <td>0</td>\n",
              "    </tr>\n",
              "    <tr>\n",
              "      <th>3</th>\n",
              "      <td>4</td>\n",
              "      <td>50000</td>\n",
              "      <td>2</td>\n",
              "      <td>2</td>\n",
              "      <td>1</td>\n",
              "      <td>37</td>\n",
              "      <td>0</td>\n",
              "      <td>0</td>\n",
              "      <td>0</td>\n",
              "      <td>0</td>\n",
              "      <td>0</td>\n",
              "      <td>0</td>\n",
              "      <td>46990</td>\n",
              "      <td>48233</td>\n",
              "      <td>49291</td>\n",
              "      <td>28314</td>\n",
              "      <td>28959</td>\n",
              "      <td>29547</td>\n",
              "      <td>2000</td>\n",
              "      <td>2019</td>\n",
              "      <td>1200</td>\n",
              "      <td>1100</td>\n",
              "      <td>1069</td>\n",
              "      <td>1000</td>\n",
              "      <td>0</td>\n",
              "    </tr>\n",
              "    <tr>\n",
              "      <th>4</th>\n",
              "      <td>5</td>\n",
              "      <td>50000</td>\n",
              "      <td>1</td>\n",
              "      <td>2</td>\n",
              "      <td>1</td>\n",
              "      <td>57</td>\n",
              "      <td>-1</td>\n",
              "      <td>0</td>\n",
              "      <td>-1</td>\n",
              "      <td>0</td>\n",
              "      <td>0</td>\n",
              "      <td>0</td>\n",
              "      <td>8617</td>\n",
              "      <td>5670</td>\n",
              "      <td>35835</td>\n",
              "      <td>20940</td>\n",
              "      <td>19146</td>\n",
              "      <td>19131</td>\n",
              "      <td>2000</td>\n",
              "      <td>36681</td>\n",
              "      <td>10000</td>\n",
              "      <td>9000</td>\n",
              "      <td>689</td>\n",
              "      <td>679</td>\n",
              "      <td>0</td>\n",
              "    </tr>\n",
              "  </tbody>\n",
              "</table>\n",
              "</div>"
            ],
            "text/plain": [
              "   ID  LIMIT_BAL  SEX  EDUCATION  ...  PAY_AMT4  PAY_AMT5  PAY_AMT6  defaulted\n",
              "0   1      20000    2          2  ...         0         0         0          1\n",
              "1   2     120000    2          2  ...      1000         0      2000          1\n",
              "2   3      90000    2          2  ...      1000      1000      5000          0\n",
              "3   4      50000    2          2  ...      1100      1069      1000          0\n",
              "4   5      50000    1          2  ...      9000       689       679          0\n",
              "\n",
              "[5 rows x 25 columns]"
            ]
          },
          "metadata": {},
          "execution_count": 51
        }
      ]
    },
    {
      "cell_type": "code",
      "metadata": {
        "id": "D_RJ1yozgNAk"
      },
      "source": [
        "# Putting feature variable to X\n",
        "X = df.iloc[:,:-1]\n",
        "\n",
        "# Putting response variable to y\n",
        "y = df['defaulted']\n",
        "y.head()\n",
        "# Splitting the data into train and test\n",
        "X_train, X_test, y_train, y_test = train_test_split(X, y, test_size=0.30, random_state=10)"
      ],
      "execution_count": 52,
      "outputs": []
    },
    {
      "cell_type": "markdown",
      "metadata": {
        "id": "aI4XO5rNgNAl"
      },
      "source": [
        "\n",
        "\n",
        "#### Default Hyperparameters\n",
        "Let's first fit a random forest model with default hyperparameters."
      ]
    },
    {
      "cell_type": "code",
      "metadata": {
        "id": "i55e3BDQgNAl"
      },
      "source": [
        "# Importing random forest classifier from sklearn library\n",
        "from sklearn.ensemble import RandomForestClassifier\n",
        "\n",
        "# Running the random forest with default parameters.\n",
        "rfc = RandomForestClassifier()"
      ],
      "execution_count": 53,
      "outputs": []
    },
    {
      "cell_type": "code",
      "metadata": {
        "colab": {
          "base_uri": "https://localhost:8080/"
        },
        "id": "bmqlweBrgNAm",
        "outputId": "386c1d59-709d-44c2-b4f1-615e3217c48c"
      },
      "source": [
        "# fit\n",
        "rfc.fit(X_train,y_train)"
      ],
      "execution_count": 54,
      "outputs": [
        {
          "output_type": "execute_result",
          "data": {
            "text/plain": [
              "RandomForestClassifier(bootstrap=True, ccp_alpha=0.0, class_weight=None,\n",
              "                       criterion='gini', max_depth=None, max_features='auto',\n",
              "                       max_leaf_nodes=None, max_samples=None,\n",
              "                       min_impurity_decrease=0.0, min_impurity_split=None,\n",
              "                       min_samples_leaf=1, min_samples_split=2,\n",
              "                       min_weight_fraction_leaf=0.0, n_estimators=100,\n",
              "                       n_jobs=None, oob_score=False, random_state=None,\n",
              "                       verbose=0, warm_start=False)"
            ]
          },
          "metadata": {},
          "execution_count": 54
        }
      ]
    },
    {
      "cell_type": "code",
      "metadata": {
        "id": "1oyygv5IgNAm"
      },
      "source": [
        "# Making predictions\n",
        "predictions = rfc.predict(X_test)"
      ],
      "execution_count": 55,
      "outputs": []
    },
    {
      "cell_type": "code",
      "metadata": {
        "id": "ad0quwo9gNAn"
      },
      "source": [
        "# Importing classification report and confusion matrix from sklearn metrics\n",
        "from sklearn.metrics import classification_report,confusion_matrix, accuracy_score, r2_score"
      ],
      "execution_count": 56,
      "outputs": []
    },
    {
      "cell_type": "code",
      "metadata": {
        "colab": {
          "base_uri": "https://localhost:8080/"
        },
        "id": "0ciYq6MlgNAn",
        "outputId": "1986a873-6613-4d1c-e148-3df49756791f"
      },
      "source": [
        "# Let's check the report of our default model\n",
        "print(classification_report(y_test,predictions))"
      ],
      "execution_count": 45,
      "outputs": [
        {
          "output_type": "stream",
          "name": "stdout",
          "text": [
            "              precision    recall  f1-score   support\n",
            "\n",
            "           0       0.84      0.95      0.89      6982\n",
            "           1       0.67      0.36      0.47      2018\n",
            "\n",
            "    accuracy                           0.82      9000\n",
            "   macro avg       0.75      0.65      0.68      9000\n",
            "weighted avg       0.80      0.82      0.79      9000\n",
            "\n"
          ]
        }
      ]
    },
    {
      "cell_type": "code",
      "metadata": {
        "colab": {
          "base_uri": "https://localhost:8080/"
        },
        "id": "xr1IpHH4gNAo",
        "outputId": "7c0598a3-481d-46dd-8d7c-7fb579630832"
      },
      "source": [
        "# Printing confusion matrix\n",
        "print(confusion_matrix(y_test,predictions))"
      ],
      "execution_count": 46,
      "outputs": [
        {
          "output_type": "stream",
          "name": "stdout",
          "text": [
            "[[6627  355]\n",
            " [1296  722]]\n"
          ]
        }
      ]
    },
    {
      "cell_type": "code",
      "metadata": {
        "colab": {
          "base_uri": "https://localhost:8080/"
        },
        "id": "7cGWAdVtgNAo",
        "outputId": "b48bc821-a4e2-401a-a8d8-a5bf78da7fed"
      },
      "source": [
        "print(accuracy_score(y_test,predictions))"
      ],
      "execution_count": 57,
      "outputs": [
        {
          "output_type": "stream",
          "name": "stdout",
          "text": [
            "0.8172222222222222\n"
          ]
        }
      ]
    },
    {
      "cell_type": "markdown",
      "metadata": {
        "id": "BBjzyO_KgNAp"
      },
      "source": [
        "So far so good, let's now look at the list of hyperparameters which we can tune to improve model performance."
      ]
    },
    {
      "cell_type": "markdown",
      "metadata": {
        "collapsed": true,
        "id": "NsizlREMgNAp"
      },
      "source": [
        "<hr>"
      ]
    },
    {
      "cell_type": "markdown",
      "metadata": {
        "id": "WcF5hvGKgNAp"
      },
      "source": [
        "### Hyperparameter Tuning"
      ]
    },
    {
      "cell_type": "markdown",
      "metadata": {
        "id": "5YDo4dLmgNAp"
      },
      "source": [
        "The following hyperparameters are present in a random forest classifier. Note that most of these hypereparameters are actually of the decision trees that are in the forest.\n",
        "\n",
        "\n",
        "- **n_estimators**: integer, optional (default=10): The number of trees in the forest.\n",
        "- **criterion**: string, optional (default=”gini”)The function to measure the quality of a split. Supported criteria are “gini” for the Gini impurity and “entropy” for the information gain. Note: this parameter is tree-specific.\n",
        "- **max_features** : int, float, string or None, optional (default=”auto”)The number of features to consider when looking for the best split:\n",
        "    - If int, then consider max_features features at each split.\n",
        "    - If float, then max_features is a percentage and int(max_features * n_features) features are considered at each split.\n",
        "    - If “auto”, then max_features=sqrt(n_features).\n",
        "    - If “sqrt”, then max_features=sqrt(n_features) (same as “auto”).\n",
        "    - If “log2”, then max_features=log2(n_features).\n",
        "    - If None, then max_features=n_features.\n",
        "    - Note: the search for a split does not stop until at least one valid partition of the node samples is found, even if it requires to effectively inspect more than max_features features.\n",
        "- **max_depth** : integer or None, optional (default=None)The maximum depth of the tree. If None, then nodes are expanded until all leaves are pure or until all leaves contain less than min_samples_split samples.\n",
        "- **min_samples_split** : int, float, optional (default=2)The minimum number of samples required to split an internal node:**\n",
        "    - **If int, then consider min_samples_split as the minimum number.\n",
        "    - **If float, then min_samples_split is a percentage and ceil(min_samples_split, n_samples) are the minimum number of samples for each split.\n",
        "- **min_samples_leaf** : int, float, optional (default=1)The minimum number of samples required to be at a leaf node:**\n",
        "    - **If int, then consider min_samples_leaf as the minimum number.**\n",
        "    - **If float, then min_samples_leaf is a percentage and ceil(min_samples_leaf * n_samples) are the minimum number of samples for each node.**\n",
        "- **min_weight_fraction_leaf** : float, optional (default=0.)The minimum weighted fraction of the sum total of weights (of all the input samples) required to be at a leaf node. Samples have equal weight when sample_weight is not provided.\n",
        "- **max_leaf_nodes** : int or None, optional (default=None)Grow trees with max_leaf_nodes in best-first fashion. Best nodes are defined as relative reduction in impurity. If None then unlimited number of leaf nodes.\n",
        "- **min_impurity_split** : float,Threshold for early stopping in tree growth. A node will split if its impurity is above the threshold, otherwise it is a leaf.\n"
      ]
    },
    {
      "cell_type": "markdown",
      "metadata": {
        "id": "jF79A7PHgNAr"
      },
      "source": [
        "<hr>"
      ]
    },
    {
      "cell_type": "markdown",
      "metadata": {
        "id": "DmAMt4jHgNAr"
      },
      "source": [
        "### Tuning max_depth"
      ]
    },
    {
      "cell_type": "markdown",
      "metadata": {
        "id": "HdYMM8ytgNAs"
      },
      "source": [
        "Let's try to find the optimum values for ```max_depth``` and understand how the value of max_depth impacts the overall accuracy of the ensemble.\n"
      ]
    },
    {
      "cell_type": "code",
      "metadata": {
        "colab": {
          "base_uri": "https://localhost:8080/"
        },
        "id": "v9uwPWAUgNAs",
        "outputId": "39e5cf86-f52f-43d0-f106-b034778cb65e"
      },
      "source": [
        "# GridSearchCV to find optimal n_estimators\n",
        "from sklearn.model_selection import KFold\n",
        "from sklearn.model_selection import GridSearchCV\n",
        "\n",
        "\n",
        "# specify number of folds for k-fold CV\n",
        "n_folds = 5\n",
        "\n",
        "# parameters to build the model on\n",
        "parameters = {'max_depth': range(4, 14, 2)}\n",
        "\n",
        "# instantiate the model\n",
        "rf = RandomForestClassifier()\n",
        "\n",
        "\n",
        "# fit tree on training data\n",
        "rf = GridSearchCV(rf, parameters, \n",
        "                    cv=n_folds, \n",
        "                    scoring=\"accuracy\",return_train_score=True, n_jobs=-1)\n",
        "rf.fit(X_train, y_train)"
      ],
      "execution_count": 26,
      "outputs": [
        {
          "output_type": "execute_result",
          "data": {
            "text/plain": [
              "GridSearchCV(cv=5, error_score=nan,\n",
              "             estimator=RandomForestClassifier(bootstrap=True, ccp_alpha=0.0,\n",
              "                                              class_weight=None,\n",
              "                                              criterion='gini', max_depth=None,\n",
              "                                              max_features='auto',\n",
              "                                              max_leaf_nodes=None,\n",
              "                                              max_samples=None,\n",
              "                                              min_impurity_decrease=0.0,\n",
              "                                              min_impurity_split=None,\n",
              "                                              min_samples_leaf=1,\n",
              "                                              min_samples_split=2,\n",
              "                                              min_weight_fraction_leaf=0.0,\n",
              "                                              n_estimators=100, n_jobs=None,\n",
              "                                              oob_score=False,\n",
              "                                              random_state=None, verbose=0,\n",
              "                                              warm_start=False),\n",
              "             iid='deprecated', n_jobs=-1,\n",
              "             param_grid={'max_depth': range(4, 14, 2)}, pre_dispatch='2*n_jobs',\n",
              "             refit=True, return_train_score=True, scoring='accuracy',\n",
              "             verbose=0)"
            ]
          },
          "metadata": {},
          "execution_count": 26
        }
      ]
    },
    {
      "cell_type": "code",
      "metadata": {
        "colab": {
          "base_uri": "https://localhost:8080/",
          "height": 309
        },
        "id": "R9hVP_BNgNAt",
        "outputId": "015581d1-0a96-4ec2-9c74-02a902cf900a"
      },
      "source": [
        "# scores of GridSearch CV\n",
        "scores = rf.cv_results_\n",
        "pd.DataFrame(scores).head()"
      ],
      "execution_count": 27,
      "outputs": [
        {
          "output_type": "execute_result",
          "data": {
            "text/html": [
              "<div>\n",
              "<style scoped>\n",
              "    .dataframe tbody tr th:only-of-type {\n",
              "        vertical-align: middle;\n",
              "    }\n",
              "\n",
              "    .dataframe tbody tr th {\n",
              "        vertical-align: top;\n",
              "    }\n",
              "\n",
              "    .dataframe thead th {\n",
              "        text-align: right;\n",
              "    }\n",
              "</style>\n",
              "<table border=\"1\" class=\"dataframe\">\n",
              "  <thead>\n",
              "    <tr style=\"text-align: right;\">\n",
              "      <th></th>\n",
              "      <th>mean_fit_time</th>\n",
              "      <th>std_fit_time</th>\n",
              "      <th>mean_score_time</th>\n",
              "      <th>std_score_time</th>\n",
              "      <th>param_max_depth</th>\n",
              "      <th>params</th>\n",
              "      <th>split0_test_score</th>\n",
              "      <th>split1_test_score</th>\n",
              "      <th>split2_test_score</th>\n",
              "      <th>split3_test_score</th>\n",
              "      <th>split4_test_score</th>\n",
              "      <th>mean_test_score</th>\n",
              "      <th>std_test_score</th>\n",
              "      <th>rank_test_score</th>\n",
              "      <th>split0_train_score</th>\n",
              "      <th>split1_train_score</th>\n",
              "      <th>split2_train_score</th>\n",
              "      <th>split3_train_score</th>\n",
              "      <th>split4_train_score</th>\n",
              "      <th>mean_train_score</th>\n",
              "      <th>std_train_score</th>\n",
              "    </tr>\n",
              "  </thead>\n",
              "  <tbody>\n",
              "    <tr>\n",
              "      <th>0</th>\n",
              "      <td>2.157793</td>\n",
              "      <td>0.036615</td>\n",
              "      <td>0.056628</td>\n",
              "      <td>0.001338</td>\n",
              "      <td>4</td>\n",
              "      <td>{'max_depth': 4}</td>\n",
              "      <td>0.808571</td>\n",
              "      <td>0.813095</td>\n",
              "      <td>0.813095</td>\n",
              "      <td>0.814286</td>\n",
              "      <td>0.812143</td>\n",
              "      <td>0.812238</td>\n",
              "      <td>0.001955</td>\n",
              "      <td>5</td>\n",
              "      <td>0.813988</td>\n",
              "      <td>0.812560</td>\n",
              "      <td>0.815060</td>\n",
              "      <td>0.812440</td>\n",
              "      <td>0.813571</td>\n",
              "      <td>0.813524</td>\n",
              "      <td>0.000967</td>\n",
              "    </tr>\n",
              "    <tr>\n",
              "      <th>1</th>\n",
              "      <td>2.911290</td>\n",
              "      <td>0.035302</td>\n",
              "      <td>0.066101</td>\n",
              "      <td>0.005316</td>\n",
              "      <td>6</td>\n",
              "      <td>{'max_depth': 6}</td>\n",
              "      <td>0.818810</td>\n",
              "      <td>0.822857</td>\n",
              "      <td>0.818571</td>\n",
              "      <td>0.816190</td>\n",
              "      <td>0.815238</td>\n",
              "      <td>0.818333</td>\n",
              "      <td>0.002643</td>\n",
              "      <td>4</td>\n",
              "      <td>0.825238</td>\n",
              "      <td>0.828690</td>\n",
              "      <td>0.827857</td>\n",
              "      <td>0.822976</td>\n",
              "      <td>0.828929</td>\n",
              "      <td>0.826738</td>\n",
              "      <td>0.002292</td>\n",
              "    </tr>\n",
              "    <tr>\n",
              "      <th>2</th>\n",
              "      <td>3.676985</td>\n",
              "      <td>0.028865</td>\n",
              "      <td>0.069990</td>\n",
              "      <td>0.001280</td>\n",
              "      <td>8</td>\n",
              "      <td>{'max_depth': 8}</td>\n",
              "      <td>0.822381</td>\n",
              "      <td>0.818810</td>\n",
              "      <td>0.818810</td>\n",
              "      <td>0.823333</td>\n",
              "      <td>0.816429</td>\n",
              "      <td>0.819952</td>\n",
              "      <td>0.002544</td>\n",
              "      <td>1</td>\n",
              "      <td>0.842381</td>\n",
              "      <td>0.844286</td>\n",
              "      <td>0.844881</td>\n",
              "      <td>0.845060</td>\n",
              "      <td>0.846012</td>\n",
              "      <td>0.844524</td>\n",
              "      <td>0.001206</td>\n",
              "    </tr>\n",
              "    <tr>\n",
              "      <th>3</th>\n",
              "      <td>4.361416</td>\n",
              "      <td>0.032957</td>\n",
              "      <td>0.080977</td>\n",
              "      <td>0.005227</td>\n",
              "      <td>10</td>\n",
              "      <td>{'max_depth': 10}</td>\n",
              "      <td>0.824286</td>\n",
              "      <td>0.818810</td>\n",
              "      <td>0.819762</td>\n",
              "      <td>0.821429</td>\n",
              "      <td>0.815238</td>\n",
              "      <td>0.819905</td>\n",
              "      <td>0.002984</td>\n",
              "      <td>2</td>\n",
              "      <td>0.865119</td>\n",
              "      <td>0.864107</td>\n",
              "      <td>0.865774</td>\n",
              "      <td>0.866845</td>\n",
              "      <td>0.865238</td>\n",
              "      <td>0.865417</td>\n",
              "      <td>0.000895</td>\n",
              "    </tr>\n",
              "    <tr>\n",
              "      <th>4</th>\n",
              "      <td>4.753763</td>\n",
              "      <td>0.513935</td>\n",
              "      <td>0.083634</td>\n",
              "      <td>0.007717</td>\n",
              "      <td>12</td>\n",
              "      <td>{'max_depth': 12}</td>\n",
              "      <td>0.822381</td>\n",
              "      <td>0.820476</td>\n",
              "      <td>0.819762</td>\n",
              "      <td>0.820476</td>\n",
              "      <td>0.815714</td>\n",
              "      <td>0.819762</td>\n",
              "      <td>0.002203</td>\n",
              "      <td>3</td>\n",
              "      <td>0.886667</td>\n",
              "      <td>0.886607</td>\n",
              "      <td>0.889107</td>\n",
              "      <td>0.886726</td>\n",
              "      <td>0.886071</td>\n",
              "      <td>0.887036</td>\n",
              "      <td>0.001062</td>\n",
              "    </tr>\n",
              "  </tbody>\n",
              "</table>\n",
              "</div>"
            ],
            "text/plain": [
              "   mean_fit_time  std_fit_time  ...  mean_train_score  std_train_score\n",
              "0       2.157793      0.036615  ...          0.813524         0.000967\n",
              "1       2.911290      0.035302  ...          0.826738         0.002292\n",
              "2       3.676985      0.028865  ...          0.844524         0.001206\n",
              "3       4.361416      0.032957  ...          0.865417         0.000895\n",
              "4       4.753763      0.513935  ...          0.887036         0.001062\n",
              "\n",
              "[5 rows x 21 columns]"
            ]
          },
          "metadata": {},
          "execution_count": 27
        }
      ]
    },
    {
      "cell_type": "code",
      "metadata": {
        "colab": {
          "base_uri": "https://localhost:8080/",
          "height": 282
        },
        "id": "baSRW07dgNAu",
        "outputId": "390b401f-f6e7-441e-e86c-7a952185e432"
      },
      "source": [
        "# plotting accuracies with max_depth\n",
        "plt.figure()\n",
        "plt.plot(scores[\"param_max_depth\"], \n",
        "         scores[\"mean_train_score\"], \n",
        "         label=\"training accuracy\")\n",
        "plt.plot(scores[\"param_max_depth\"], \n",
        "         scores[\"mean_test_score\"], \n",
        "         label=\"test accuracy\")\n",
        "plt.xlabel(\"max_depth\")\n",
        "plt.ylabel(\"Accuracy\")\n",
        "plt.legend()\n",
        "plt.show()\n"
      ],
      "execution_count": 28,
      "outputs": [
        {
          "output_type": "display_data",
          "data": {
            "image/png": "[encoded data removed]",
            "text/plain": [
              "<Figure size 432x288 with 1 Axes>"
            ]
          },
          "metadata": {
            "needs_background": "light"
          }
        }
      ]
    },
    {
      "cell_type": "markdown",
      "metadata": {
        "id": "Sg8O0nozgNAu"
      },
      "source": [
        "You can see that as we increase the value of max_depth, both train and test scores increase till a point, but after that test score starts to decrease. The ensemble tries to overfit as we increase the max_depth.\n",
        "\n",
        "Thus, controlling the depth of the constituent trees will help reduce overfitting in the forest."
      ]
    },
    {
      "cell_type": "markdown",
      "metadata": {
        "id": "omu1NhJ3gNAv"
      },
      "source": [
        "<hr>"
      ]
    },
    {
      "cell_type": "markdown",
      "metadata": {
        "id": "8SQzBTaegNAv"
      },
      "source": [
        "### Tuning n_estimators"
      ]
    },
    {
      "cell_type": "markdown",
      "metadata": {
        "id": "qgaBn4GGgNAv"
      },
      "source": [
        "Let's try to find the optimum values for n_estimators and understand how the value of n_estimators impacts the overall accuracy. Notice that we'll specify an appropriately low value of max_depth, so that the trees do not overfit.\n",
        "<br>\n"
      ]
    },
    {
      "cell_type": "code",
      "metadata": {
        "scrolled": true,
        "colab": {
          "base_uri": "https://localhost:8080/"
        },
        "id": "OgadprkcgNAv",
        "outputId": "3e7050de-6ad1-4041-a4fd-a3a5185efd38"
      },
      "source": [
        "# GridSearchCV to find optimal n_estimators\n",
        "from sklearn.model_selection import KFold\n",
        "from sklearn.model_selection import GridSearchCV\n",
        "\n",
        "\n",
        "# specify number of folds for k-fold CV\n",
        "n_folds = 5\n",
        "\n",
        "# parameters to build the model on\n",
        "parameters = {'n_estimators': range(100, 1600, 500)}\n",
        "\n",
        "# instantiate the model (note we are specifying a max_depth)\n",
        "rf = RandomForestClassifier(max_depth=4)\n",
        "\n",
        "\n",
        "# fit tree on training data\n",
        "rf = GridSearchCV(rf, parameters, \n",
        "                    cv=n_folds, \n",
        "                    scoring=\"accuracy\",return_train_score=True)\n",
        "rf.fit(X_train, y_train)"
      ],
      "execution_count": 74,
      "outputs": [
        {
          "output_type": "execute_result",
          "data": {
            "text/plain": [
              "GridSearchCV(cv=5, error_score=nan,\n",
              "             estimator=RandomForestClassifier(bootstrap=True, ccp_alpha=0.0,\n",
              "                                              class_weight=None,\n",
              "                                              criterion='gini', max_depth=4,\n",
              "                                              max_features='auto',\n",
              "                                              max_leaf_nodes=None,\n",
              "                                              max_samples=None,\n",
              "                                              min_impurity_decrease=0.0,\n",
              "                                              min_impurity_split=None,\n",
              "                                              min_samples_leaf=1,\n",
              "                                              min_samples_split=2,\n",
              "                                              min_weight_fraction_leaf=0.0,\n",
              "                                              n_estimators=100, n_jobs=None,\n",
              "                                              oob_score=False,\n",
              "                                              random_state=None, verbose=0,\n",
              "                                              warm_start=False),\n",
              "             iid='deprecated', n_jobs=None,\n",
              "             param_grid={'n_estimators': range(100, 1600, 500)},\n",
              "             pre_dispatch='2*n_jobs', refit=True, return_train_score=True,\n",
              "             scoring='accuracy', verbose=0)"
            ]
          },
          "metadata": {},
          "execution_count": 74
        }
      ]
    },
    {
      "cell_type": "code",
      "metadata": {
        "colab": {
          "base_uri": "https://localhost:8080/",
          "height": 213
        },
        "id": "qyDo7HRvgNAw",
        "outputId": "0d783f2f-446b-4a9c-dba3-534a50d8cc82"
      },
      "source": [
        "# scores of GridSearch CV\n",
        "scores = rf.cv_results_\n",
        "pd.DataFrame(scores).head()"
      ],
      "execution_count": 75,
      "outputs": [
        {
          "output_type": "execute_result",
          "data": {
            "text/html": [
              "<div>\n",
              "<style scoped>\n",
              "    .dataframe tbody tr th:only-of-type {\n",
              "        vertical-align: middle;\n",
              "    }\n",
              "\n",
              "    .dataframe tbody tr th {\n",
              "        vertical-align: top;\n",
              "    }\n",
              "\n",
              "    .dataframe thead th {\n",
              "        text-align: right;\n",
              "    }\n",
              "</style>\n",
              "<table border=\"1\" class=\"dataframe\">\n",
              "  <thead>\n",
              "    <tr style=\"text-align: right;\">\n",
              "      <th></th>\n",
              "      <th>mean_fit_time</th>\n",
              "      <th>std_fit_time</th>\n",
              "      <th>mean_score_time</th>\n",
              "      <th>std_score_time</th>\n",
              "      <th>param_n_estimators</th>\n",
              "      <th>params</th>\n",
              "      <th>split0_test_score</th>\n",
              "      <th>split1_test_score</th>\n",
              "      <th>split2_test_score</th>\n",
              "      <th>split3_test_score</th>\n",
              "      <th>split4_test_score</th>\n",
              "      <th>mean_test_score</th>\n",
              "      <th>std_test_score</th>\n",
              "      <th>rank_test_score</th>\n",
              "      <th>split0_train_score</th>\n",
              "      <th>split1_train_score</th>\n",
              "      <th>split2_train_score</th>\n",
              "      <th>split3_train_score</th>\n",
              "      <th>split4_train_score</th>\n",
              "      <th>mean_train_score</th>\n",
              "      <th>std_train_score</th>\n",
              "    </tr>\n",
              "  </thead>\n",
              "  <tbody>\n",
              "    <tr>\n",
              "      <th>0</th>\n",
              "      <td>1.468194</td>\n",
              "      <td>0.021332</td>\n",
              "      <td>0.042845</td>\n",
              "      <td>0.002519</td>\n",
              "      <td>100</td>\n",
              "      <td>{'n_estimators': 100}</td>\n",
              "      <td>0.808571</td>\n",
              "      <td>0.814286</td>\n",
              "      <td>0.811190</td>\n",
              "      <td>0.814286</td>\n",
              "      <td>0.810476</td>\n",
              "      <td>0.811762</td>\n",
              "      <td>0.002231</td>\n",
              "      <td>3</td>\n",
              "      <td>0.813929</td>\n",
              "      <td>0.815119</td>\n",
              "      <td>0.812262</td>\n",
              "      <td>0.811667</td>\n",
              "      <td>0.813155</td>\n",
              "      <td>0.813226</td>\n",
              "      <td>0.001220</td>\n",
              "    </tr>\n",
              "    <tr>\n",
              "      <th>1</th>\n",
              "      <td>8.771245</td>\n",
              "      <td>0.029353</td>\n",
              "      <td>0.231666</td>\n",
              "      <td>0.003481</td>\n",
              "      <td>600</td>\n",
              "      <td>{'n_estimators': 600}</td>\n",
              "      <td>0.808333</td>\n",
              "      <td>0.814524</td>\n",
              "      <td>0.811190</td>\n",
              "      <td>0.814048</td>\n",
              "      <td>0.811905</td>\n",
              "      <td>0.812000</td>\n",
              "      <td>0.002221</td>\n",
              "      <td>1</td>\n",
              "      <td>0.813869</td>\n",
              "      <td>0.813393</td>\n",
              "      <td>0.812976</td>\n",
              "      <td>0.812381</td>\n",
              "      <td>0.813631</td>\n",
              "      <td>0.813250</td>\n",
              "      <td>0.000525</td>\n",
              "    </tr>\n",
              "    <tr>\n",
              "      <th>2</th>\n",
              "      <td>15.817655</td>\n",
              "      <td>0.087414</td>\n",
              "      <td>0.421088</td>\n",
              "      <td>0.009161</td>\n",
              "      <td>1100</td>\n",
              "      <td>{'n_estimators': 1100}</td>\n",
              "      <td>0.808571</td>\n",
              "      <td>0.813810</td>\n",
              "      <td>0.811667</td>\n",
              "      <td>0.814286</td>\n",
              "      <td>0.811190</td>\n",
              "      <td>0.811905</td>\n",
              "      <td>0.002048</td>\n",
              "      <td>2</td>\n",
              "      <td>0.813333</td>\n",
              "      <td>0.813393</td>\n",
              "      <td>0.813333</td>\n",
              "      <td>0.812500</td>\n",
              "      <td>0.813631</td>\n",
              "      <td>0.813238</td>\n",
              "      <td>0.000385</td>\n",
              "    </tr>\n",
              "  </tbody>\n",
              "</table>\n",
              "</div>"
            ],
            "text/plain": [
              "   mean_fit_time  std_fit_time  ...  mean_train_score  std_train_score\n",
              "0       1.468194      0.021332  ...          0.813226         0.001220\n",
              "1       8.771245      0.029353  ...          0.813250         0.000525\n",
              "2      15.817655      0.087414  ...          0.813238         0.000385\n",
              "\n",
              "[3 rows x 21 columns]"
            ]
          },
          "metadata": {},
          "execution_count": 75
        }
      ]
    },
    {
      "cell_type": "code",
      "metadata": {
        "colab": {
          "base_uri": "https://localhost:8080/",
          "height": 280
        },
        "id": "DT1NRsJwgNAw",
        "outputId": "0b280844-044e-47d7-999e-3d6ccce01a8d"
      },
      "source": [
        "# plotting accuracies with n_estimators\n",
        "plt.figure()\n",
        "plt.plot(scores[\"param_n_estimators\"], \n",
        "         scores[\"mean_train_score\"], \n",
        "         label=\"training accuracy\")\n",
        "plt.plot(scores[\"param_n_estimators\"], \n",
        "         scores[\"mean_test_score\"], \n",
        "         label=\"test accuracy\")\n",
        "plt.xlabel(\"n_estimators\")\n",
        "plt.ylabel(\"Accuracy\")\n",
        "plt.legend()\n",
        "plt.show()\n"
      ],
      "execution_count": 76,
      "outputs": [
        {
          "output_type": "display_data",
          "data": {
            "image/png": "[encoded data removed]",
            "text/plain": [
              "<Figure size 432x288 with 1 Axes>"
            ]
          },
          "metadata": {
            "needs_background": "light"
          }
        }
      ]
    },
    {
      "cell_type": "markdown",
      "metadata": {
        "id": "2OZcD81_v3QV"
      },
      "source": [
        "A small uptick in the test accuracy is visible as we increase the n_Estimators, which is the number of trees in the forest. Further convincing that more the trees, more is the test accuracy and RFC works better when more complex, more stable (not like other algos that are less stable with increasing complexity)"
      ]
    },
    {
      "cell_type": "markdown",
      "metadata": {
        "id": "aVEQw_xdgNAx"
      },
      "source": [
        "<hr>"
      ]
    },
    {
      "cell_type": "markdown",
      "metadata": {
        "id": "10EXdCHegNAx"
      },
      "source": [
        "### Tuning max_features\n",
        "\n",
        "Let's see how the model performance varies with ```max_features```, which is the maximum number of features considered for splitting at a node."
      ]
    },
    {
      "cell_type": "code",
      "metadata": {
        "colab": {
          "base_uri": "https://localhost:8080/"
        },
        "id": "ap56252CgNAx",
        "outputId": "e5b2cb93-256c-44e0-ed0f-39ae709207ce"
      },
      "source": [
        "# GridSearchCV to find optimal max_features\n",
        "from sklearn.model_selection import KFold\n",
        "from sklearn.model_selection import GridSearchCV\n",
        "\n",
        "\n",
        "# specify number of folds for k-fold CV\n",
        "n_folds = 5\n",
        "\n",
        "# parameters to build the model on\n",
        "parameters = {'max_features': [8, 14, 18, 20, 22, 24]}\n",
        "\n",
        "# instantiate the model\n",
        "rf = RandomForestClassifier(max_depth=7)\n",
        "\n",
        "# fit tree on training data\n",
        "rf = GridSearchCV(rf, parameters, \n",
        "                    cv=n_folds, \n",
        "                   scoring=\"accuracy\", return_train_score = True)\n",
        "\n",
        "rf.fit(X_train, y_train)"
      ],
      "execution_count": 56,
      "outputs": [
        {
          "output_type": "execute_result",
          "data": {
            "text/plain": [
              "GridSearchCV(cv=5, error_score=nan,\n",
              "             estimator=RandomForestClassifier(bootstrap=True, ccp_alpha=0.0,\n",
              "                                              class_weight=None,\n",
              "                                              criterion='gini', max_depth=7,\n",
              "                                              max_features='auto',\n",
              "                                              max_leaf_nodes=None,\n",
              "                                              max_samples=None,\n",
              "                                              min_impurity_decrease=0.0,\n",
              "                                              min_impurity_split=None,\n",
              "                                              min_samples_leaf=1,\n",
              "                                              min_samples_split=2,\n",
              "                                              min_weight_fraction_leaf=0.0,\n",
              "                                              n_estimators=100, n_jobs=None,\n",
              "                                              oob_score=False,\n",
              "                                              random_state=None, verbose=0,\n",
              "                                              warm_start=False),\n",
              "             iid='deprecated', n_jobs=None,\n",
              "             param_grid={'max_features': [8, 14, 18, 20, 22, 24]},\n",
              "             pre_dispatch='2*n_jobs', refit=True, return_train_score=True,\n",
              "             scoring='accuracy', verbose=0)"
            ]
          },
          "metadata": {},
          "execution_count": 56
        }
      ]
    },
    {
      "cell_type": "code",
      "metadata": {
        "colab": {
          "base_uri": "https://localhost:8080/",
          "height": 309
        },
        "id": "JvcMLE0dgNAx",
        "outputId": "77dd7f6b-7f23-4f88-c95d-de848295c128"
      },
      "source": [
        "# scores of GridSearch CV\n",
        "scores = rf.cv_results_\n",
        "pd.DataFrame(scores).head()"
      ],
      "execution_count": 58,
      "outputs": [
        {
          "output_type": "execute_result",
          "data": {
            "text/html": [
              "<div>\n",
              "<style scoped>\n",
              "    .dataframe tbody tr th:only-of-type {\n",
              "        vertical-align: middle;\n",
              "    }\n",
              "\n",
              "    .dataframe tbody tr th {\n",
              "        vertical-align: top;\n",
              "    }\n",
              "\n",
              "    .dataframe thead th {\n",
              "        text-align: right;\n",
              "    }\n",
              "</style>\n",
              "<table border=\"1\" class=\"dataframe\">\n",
              "  <thead>\n",
              "    <tr style=\"text-align: right;\">\n",
              "      <th></th>\n",
              "      <th>mean_fit_time</th>\n",
              "      <th>std_fit_time</th>\n",
              "      <th>mean_score_time</th>\n",
              "      <th>std_score_time</th>\n",
              "      <th>param_max_features</th>\n",
              "      <th>params</th>\n",
              "      <th>split0_test_score</th>\n",
              "      <th>split1_test_score</th>\n",
              "      <th>split2_test_score</th>\n",
              "      <th>split3_test_score</th>\n",
              "      <th>split4_test_score</th>\n",
              "      <th>mean_test_score</th>\n",
              "      <th>std_test_score</th>\n",
              "      <th>rank_test_score</th>\n",
              "      <th>split0_train_score</th>\n",
              "      <th>split1_train_score</th>\n",
              "      <th>split2_train_score</th>\n",
              "      <th>split3_train_score</th>\n",
              "      <th>split4_train_score</th>\n",
              "      <th>mean_train_score</th>\n",
              "      <th>std_train_score</th>\n",
              "    </tr>\n",
              "  </thead>\n",
              "  <tbody>\n",
              "    <tr>\n",
              "      <th>0</th>\n",
              "      <td>4.218701</td>\n",
              "      <td>0.022317</td>\n",
              "      <td>0.047091</td>\n",
              "      <td>0.002212</td>\n",
              "      <td>8</td>\n",
              "      <td>{'max_features': 8}</td>\n",
              "      <td>0.812619</td>\n",
              "      <td>0.821429</td>\n",
              "      <td>0.822619</td>\n",
              "      <td>0.820476</td>\n",
              "      <td>0.823291</td>\n",
              "      <td>0.820087</td>\n",
              "      <td>0.003857</td>\n",
              "      <td>3</td>\n",
              "      <td>0.837490</td>\n",
              "      <td>0.833978</td>\n",
              "      <td>0.833204</td>\n",
              "      <td>0.835943</td>\n",
              "      <td>0.834167</td>\n",
              "      <td>0.834956</td>\n",
              "      <td>0.001552</td>\n",
              "    </tr>\n",
              "    <tr>\n",
              "      <th>1</th>\n",
              "      <td>6.982435</td>\n",
              "      <td>0.018602</td>\n",
              "      <td>0.046379</td>\n",
              "      <td>0.000387</td>\n",
              "      <td>14</td>\n",
              "      <td>{'max_features': 14}</td>\n",
              "      <td>0.810476</td>\n",
              "      <td>0.822619</td>\n",
              "      <td>0.821190</td>\n",
              "      <td>0.820238</td>\n",
              "      <td>0.821862</td>\n",
              "      <td>0.819277</td>\n",
              "      <td>0.004470</td>\n",
              "      <td>6</td>\n",
              "      <td>0.839217</td>\n",
              "      <td>0.836597</td>\n",
              "      <td>0.834395</td>\n",
              "      <td>0.837074</td>\n",
              "      <td>0.837262</td>\n",
              "      <td>0.836909</td>\n",
              "      <td>0.001542</td>\n",
              "    </tr>\n",
              "    <tr>\n",
              "      <th>2</th>\n",
              "      <td>8.888938</td>\n",
              "      <td>0.043716</td>\n",
              "      <td>0.045993</td>\n",
              "      <td>0.001324</td>\n",
              "      <td>18</td>\n",
              "      <td>{'max_features': 18}</td>\n",
              "      <td>0.810000</td>\n",
              "      <td>0.822857</td>\n",
              "      <td>0.823571</td>\n",
              "      <td>0.822857</td>\n",
              "      <td>0.821862</td>\n",
              "      <td>0.820230</td>\n",
              "      <td>0.005144</td>\n",
              "      <td>2</td>\n",
              "      <td>0.839038</td>\n",
              "      <td>0.836300</td>\n",
              "      <td>0.834752</td>\n",
              "      <td>0.837371</td>\n",
              "      <td>0.836786</td>\n",
              "      <td>0.836849</td>\n",
              "      <td>0.001398</td>\n",
              "    </tr>\n",
              "    <tr>\n",
              "      <th>3</th>\n",
              "      <td>9.775570</td>\n",
              "      <td>0.047300</td>\n",
              "      <td>0.045882</td>\n",
              "      <td>0.001349</td>\n",
              "      <td>20</td>\n",
              "      <td>{'max_features': 20}</td>\n",
              "      <td>0.811190</td>\n",
              "      <td>0.823810</td>\n",
              "      <td>0.823095</td>\n",
              "      <td>0.821667</td>\n",
              "      <td>0.821862</td>\n",
              "      <td>0.820325</td>\n",
              "      <td>0.004635</td>\n",
              "      <td>1</td>\n",
              "      <td>0.839752</td>\n",
              "      <td>0.837074</td>\n",
              "      <td>0.835050</td>\n",
              "      <td>0.838264</td>\n",
              "      <td>0.836607</td>\n",
              "      <td>0.837349</td>\n",
              "      <td>0.001583</td>\n",
              "    </tr>\n",
              "    <tr>\n",
              "      <th>4</th>\n",
              "      <td>10.700130</td>\n",
              "      <td>0.044838</td>\n",
              "      <td>0.045672</td>\n",
              "      <td>0.001518</td>\n",
              "      <td>22</td>\n",
              "      <td>{'max_features': 22}</td>\n",
              "      <td>0.809048</td>\n",
              "      <td>0.822381</td>\n",
              "      <td>0.824286</td>\n",
              "      <td>0.820476</td>\n",
              "      <td>0.822577</td>\n",
              "      <td>0.819753</td>\n",
              "      <td>0.005487</td>\n",
              "      <td>5</td>\n",
              "      <td>0.839812</td>\n",
              "      <td>0.836002</td>\n",
              "      <td>0.835288</td>\n",
              "      <td>0.838681</td>\n",
              "      <td>0.837619</td>\n",
              "      <td>0.837480</td>\n",
              "      <td>0.001667</td>\n",
              "    </tr>\n",
              "  </tbody>\n",
              "</table>\n",
              "</div>"
            ],
            "text/plain": [
              "   mean_fit_time  std_fit_time  ...  mean_train_score  std_train_score\n",
              "0       4.218701      0.022317  ...          0.834956         0.001552\n",
              "1       6.982435      0.018602  ...          0.836909         0.001542\n",
              "2       8.888938      0.043716  ...          0.836849         0.001398\n",
              "3       9.775570      0.047300  ...          0.837349         0.001583\n",
              "4      10.700130      0.044838  ...          0.837480         0.001667\n",
              "\n",
              "[5 rows x 21 columns]"
            ]
          },
          "metadata": {},
          "execution_count": 58
        }
      ]
    },
    {
      "cell_type": "code",
      "metadata": {
        "colab": {
          "base_uri": "https://localhost:8080/",
          "height": 280
        },
        "id": "esEizyczgNAx",
        "outputId": "948a7d87-3888-49d0-fb89-119993eae4fc"
      },
      "source": [
        "# plotting accuracies with max_features\n",
        "plt.figure()\n",
        "plt.plot(scores[\"param_max_features\"], \n",
        "         scores[\"mean_train_score\"], \n",
        "         label=\"training accuracy\")\n",
        "plt.plot(scores[\"param_max_features\"], \n",
        "         scores[\"mean_test_score\"], \n",
        "         label=\"test accuracy\")\n",
        "plt.xlabel(\"max_features\")\n",
        "plt.ylabel(\"Accuracy\")\n",
        "plt.legend()\n",
        "plt.show()\n"
      ],
      "execution_count": 59,
      "outputs": [
        {
          "output_type": "display_data",
          "data": {
            "image/png": "[encoded data removed]",
            "text/plain": [
              "<Figure size 432x288 with 1 Axes>"
            ]
          },
          "metadata": {
            "needs_background": "light"
          }
        }
      ]
    },
    {
      "cell_type": "markdown",
      "metadata": {
        "id": "oePsuTAHgNAy"
      },
      "source": [
        "Apparently, the training and test scores *both* seem to increase as we increase max_features, and the model doesn't seem to overfit more with increasing max_features. \n",
        "\n",
        "It may later on, subject to analysis. However, these max_features are the total features given to each tree in the forest to work with."
      ]
    },
    {
      "cell_type": "markdown",
      "metadata": {
        "id": "64RgR761gNAy"
      },
      "source": [
        "### Tuning min_samples_leaf"
      ]
    },
    {
      "cell_type": "markdown",
      "metadata": {
        "id": "5lgEA4QzgNAy"
      },
      "source": [
        "The hyperparameter **min_samples_leaf** is the minimum number of samples required to be at a leaf node:\n",
        "- If int, then consider min_samples_leaf as the minimum number.\n",
        "- If float, then min_samples_leaf is a percentage and ceil(min_samples_leaf * n_samples) are the minimum number of samples for each node."
      ]
    },
    {
      "cell_type": "markdown",
      "metadata": {
        "id": "tV5DsCiFgNAy"
      },
      "source": [
        "Let's now check the optimum value for min samples leaf in our case."
      ]
    },
    {
      "cell_type": "code",
      "metadata": {
        "colab": {
          "base_uri": "https://localhost:8080/"
        },
        "id": "eIw4NhN9gNAz",
        "outputId": "1f9dad76-7fd9-4a85-f45f-a6707097f9ed"
      },
      "source": [
        "# GridSearchCV to find optimal min_samples_leaf\n",
        "from sklearn.model_selection import KFold\n",
        "from sklearn.model_selection import GridSearchCV\n",
        "\n",
        "\n",
        "# specify number of folds for k-fold CV\n",
        "n_folds = 5\n",
        "\n",
        "# parameters to build the model on\n",
        "parameters = {'min_samples_leaf': range(100, 400, 50)}\n",
        "\n",
        "# instantiate the model\n",
        "rf = RandomForestClassifier()\n",
        "\n",
        "\n",
        "# fit tree on training data\n",
        "rf = GridSearchCV(rf, parameters, \n",
        "                    cv=n_folds, \n",
        "                   scoring=\"accuracy\", return_train_score = True)\n",
        "rf.fit(X_train, y_train)"
      ],
      "execution_count": 26,
      "outputs": [
        {
          "output_type": "execute_result",
          "data": {
            "text/plain": [
              "GridSearchCV(cv=5, error_score=nan,\n",
              "             estimator=RandomForestClassifier(bootstrap=True, ccp_alpha=0.0,\n",
              "                                              class_weight=None,\n",
              "                                              criterion='gini', max_depth=None,\n",
              "                                              max_features='auto',\n",
              "                                              max_leaf_nodes=None,\n",
              "                                              max_samples=None,\n",
              "                                              min_impurity_decrease=0.0,\n",
              "                                              min_impurity_split=None,\n",
              "                                              min_samples_leaf=1,\n",
              "                                              min_samples_split=2,\n",
              "                                              min_weight_fraction_leaf=0.0,\n",
              "                                              n_estimators=100, n_jobs=None,\n",
              "                                              oob_score=False,\n",
              "                                              random_state=None, verbose=0,\n",
              "                                              warm_start=False),\n",
              "             iid='deprecated', n_jobs=None,\n",
              "             param_grid={'min_samples_leaf': range(100, 400, 50)},\n",
              "             pre_dispatch='2*n_jobs', refit=True, return_train_score=True,\n",
              "             scoring='accuracy', verbose=0)"
            ]
          },
          "metadata": {},
          "execution_count": 26
        }
      ]
    },
    {
      "cell_type": "code",
      "metadata": {
        "colab": {
          "base_uri": "https://localhost:8080/",
          "height": 309
        },
        "id": "5C9yrtNXgNAz",
        "outputId": "bfa6618f-6f2d-481e-c044-c31ab9c3b395"
      },
      "source": [
        "# scores of GridSearch CV\n",
        "scores = rf.cv_results_\n",
        "pd.DataFrame(scores).head()"
      ],
      "execution_count": 27,
      "outputs": [
        {
          "output_type": "execute_result",
          "data": {
            "text/html": [
              "<div>\n",
              "<style scoped>\n",
              "    .dataframe tbody tr th:only-of-type {\n",
              "        vertical-align: middle;\n",
              "    }\n",
              "\n",
              "    .dataframe tbody tr th {\n",
              "        vertical-align: top;\n",
              "    }\n",
              "\n",
              "    .dataframe thead th {\n",
              "        text-align: right;\n",
              "    }\n",
              "</style>\n",
              "<table border=\"1\" class=\"dataframe\">\n",
              "  <thead>\n",
              "    <tr style=\"text-align: right;\">\n",
              "      <th></th>\n",
              "      <th>mean_fit_time</th>\n",
              "      <th>std_fit_time</th>\n",
              "      <th>mean_score_time</th>\n",
              "      <th>std_score_time</th>\n",
              "      <th>param_min_samples_leaf</th>\n",
              "      <th>params</th>\n",
              "      <th>split0_test_score</th>\n",
              "      <th>split1_test_score</th>\n",
              "      <th>split2_test_score</th>\n",
              "      <th>split3_test_score</th>\n",
              "      <th>split4_test_score</th>\n",
              "      <th>mean_test_score</th>\n",
              "      <th>std_test_score</th>\n",
              "      <th>rank_test_score</th>\n",
              "      <th>split0_train_score</th>\n",
              "      <th>split1_train_score</th>\n",
              "      <th>split2_train_score</th>\n",
              "      <th>split3_train_score</th>\n",
              "      <th>split4_train_score</th>\n",
              "      <th>mean_train_score</th>\n",
              "      <th>std_train_score</th>\n",
              "    </tr>\n",
              "  </thead>\n",
              "  <tbody>\n",
              "    <tr>\n",
              "      <th>0</th>\n",
              "      <td>2.544058</td>\n",
              "      <td>0.033095</td>\n",
              "      <td>0.053723</td>\n",
              "      <td>0.001045</td>\n",
              "      <td>100</td>\n",
              "      <td>{'min_samples_leaf': 100}</td>\n",
              "      <td>0.809524</td>\n",
              "      <td>0.818810</td>\n",
              "      <td>0.819286</td>\n",
              "      <td>0.818333</td>\n",
              "      <td>0.813051</td>\n",
              "      <td>0.815801</td>\n",
              "      <td>0.003862</td>\n",
              "      <td>1</td>\n",
              "      <td>0.820406</td>\n",
              "      <td>0.817132</td>\n",
              "      <td>0.821537</td>\n",
              "      <td>0.818323</td>\n",
              "      <td>0.817857</td>\n",
              "      <td>0.819051</td>\n",
              "      <td>0.001653</td>\n",
              "    </tr>\n",
              "    <tr>\n",
              "      <th>1</th>\n",
              "      <td>2.301680</td>\n",
              "      <td>0.020629</td>\n",
              "      <td>0.049805</td>\n",
              "      <td>0.001122</td>\n",
              "      <td>150</td>\n",
              "      <td>{'min_samples_leaf': 150}</td>\n",
              "      <td>0.807381</td>\n",
              "      <td>0.817619</td>\n",
              "      <td>0.811190</td>\n",
              "      <td>0.815952</td>\n",
              "      <td>0.810431</td>\n",
              "      <td>0.812515</td>\n",
              "      <td>0.003750</td>\n",
              "      <td>2</td>\n",
              "      <td>0.814989</td>\n",
              "      <td>0.815584</td>\n",
              "      <td>0.813441</td>\n",
              "      <td>0.814513</td>\n",
              "      <td>0.816369</td>\n",
              "      <td>0.814979</td>\n",
              "      <td>0.000988</td>\n",
              "    </tr>\n",
              "    <tr>\n",
              "      <th>2</th>\n",
              "      <td>2.142905</td>\n",
              "      <td>0.016411</td>\n",
              "      <td>0.048484</td>\n",
              "      <td>0.002689</td>\n",
              "      <td>200</td>\n",
              "      <td>{'min_samples_leaf': 200}</td>\n",
              "      <td>0.805238</td>\n",
              "      <td>0.811667</td>\n",
              "      <td>0.810238</td>\n",
              "      <td>0.813571</td>\n",
              "      <td>0.808288</td>\n",
              "      <td>0.809800</td>\n",
              "      <td>0.002863</td>\n",
              "      <td>3</td>\n",
              "      <td>0.811001</td>\n",
              "      <td>0.811001</td>\n",
              "      <td>0.811001</td>\n",
              "      <td>0.809155</td>\n",
              "      <td>0.809524</td>\n",
              "      <td>0.810336</td>\n",
              "      <td>0.000822</td>\n",
              "    </tr>\n",
              "    <tr>\n",
              "      <th>3</th>\n",
              "      <td>1.992539</td>\n",
              "      <td>0.017001</td>\n",
              "      <td>0.046944</td>\n",
              "      <td>0.002039</td>\n",
              "      <td>250</td>\n",
              "      <td>{'min_samples_leaf': 250}</td>\n",
              "      <td>0.805714</td>\n",
              "      <td>0.808571</td>\n",
              "      <td>0.810238</td>\n",
              "      <td>0.812381</td>\n",
              "      <td>0.808050</td>\n",
              "      <td>0.808991</td>\n",
              "      <td>0.002229</td>\n",
              "      <td>4</td>\n",
              "      <td>0.810882</td>\n",
              "      <td>0.807369</td>\n",
              "      <td>0.811298</td>\n",
              "      <td>0.809929</td>\n",
              "      <td>0.810119</td>\n",
              "      <td>0.809920</td>\n",
              "      <td>0.001369</td>\n",
              "    </tr>\n",
              "    <tr>\n",
              "      <th>4</th>\n",
              "      <td>1.895332</td>\n",
              "      <td>0.021896</td>\n",
              "      <td>0.043251</td>\n",
              "      <td>0.000563</td>\n",
              "      <td>300</td>\n",
              "      <td>{'min_samples_leaf': 300}</td>\n",
              "      <td>0.805238</td>\n",
              "      <td>0.803571</td>\n",
              "      <td>0.805238</td>\n",
              "      <td>0.811905</td>\n",
              "      <td>0.808526</td>\n",
              "      <td>0.806896</td>\n",
              "      <td>0.002976</td>\n",
              "      <td>5</td>\n",
              "      <td>0.811953</td>\n",
              "      <td>0.806358</td>\n",
              "      <td>0.808917</td>\n",
              "      <td>0.809274</td>\n",
              "      <td>0.810774</td>\n",
              "      <td>0.809455</td>\n",
              "      <td>0.001892</td>\n",
              "    </tr>\n",
              "  </tbody>\n",
              "</table>\n",
              "</div>"
            ],
            "text/plain": [
              "   mean_fit_time  std_fit_time  ...  mean_train_score  std_train_score\n",
              "0       2.544058      0.033095  ...          0.819051         0.001653\n",
              "1       2.301680      0.020629  ...          0.814979         0.000988\n",
              "2       2.142905      0.016411  ...          0.810336         0.000822\n",
              "3       1.992539      0.017001  ...          0.809920         0.001369\n",
              "4       1.895332      0.021896  ...          0.809455         0.001892\n",
              "\n",
              "[5 rows x 21 columns]"
            ]
          },
          "metadata": {},
          "execution_count": 27
        }
      ]
    },
    {
      "cell_type": "code",
      "metadata": {
        "colab": {
          "base_uri": "https://localhost:8080/",
          "height": 280
        },
        "id": "UDd0tfj7gNAz",
        "outputId": "bddfcd61-8795-49c6-c335-a7bdc474f11b"
      },
      "source": [
        "# plotting accuracies with min_samples_leaf\n",
        "plt.figure()\n",
        "plt.plot(scores[\"param_min_samples_leaf\"], \n",
        "         scores[\"mean_train_score\"], \n",
        "         label=\"training accuracy\")\n",
        "plt.plot(scores[\"param_min_samples_leaf\"], \n",
        "         scores[\"mean_test_score\"], \n",
        "         label=\"test accuracy\")\n",
        "plt.xlabel(\"min_samples_leaf\")\n",
        "plt.ylabel(\"Accuracy\")\n",
        "plt.legend()\n",
        "plt.show()"
      ],
      "execution_count": 28,
      "outputs": [
        {
          "output_type": "display_data",
          "data": {
            "image/png": "[encoded data removed]",
            "text/plain": [
              "<Figure size 432x288 with 1 Axes>"
            ]
          },
          "metadata": {
            "needs_background": "light"
          }
        }
      ]
    },
    {
      "cell_type": "markdown",
      "metadata": {
        "id": "zR_JuVXWgNA0"
      },
      "source": [
        "You can see that the model starts of overfit as you decrease the value of min_samples_leaf. "
      ]
    },
    {
      "cell_type": "markdown",
      "metadata": {
        "id": "J9atr6xKgNA0"
      },
      "source": [
        "### Tuning min_samples_split\n",
        "\n",
        "Let's now look at the performance of the ensemble as we vary min_samples_split."
      ]
    },
    {
      "cell_type": "code",
      "metadata": {
        "scrolled": true,
        "colab": {
          "base_uri": "https://localhost:8080/"
        },
        "id": "dtLpnBGGgNA0",
        "outputId": "9c8aa827-74d0-455b-8135-9907b7ddafd7"
      },
      "source": [
        "# GridSearchCV to find optimal min_samples_split\n",
        "from sklearn.model_selection import KFold\n",
        "from sklearn.model_selection import GridSearchCV\n",
        "\n",
        "\n",
        "# specify number of folds for k-fold CV\n",
        "n_folds = 5\n",
        "\n",
        "# parameters to build the model on\n",
        "parameters = {'min_samples_split': [150, 200, 250, 300, 350]}\n",
        "\n",
        "# instantiate the model\n",
        "rf = RandomForestClassifier()\n",
        "\n",
        "\n",
        "# fit tree on training data\n",
        "rf = GridSearchCV(rf, parameters, \n",
        "                    cv=n_folds, \n",
        "                   scoring=\"accuracy\", return_train_score= True)\n",
        "rf.fit(X_train, y_train)"
      ],
      "execution_count": 60,
      "outputs": [
        {
          "output_type": "execute_result",
          "data": {
            "text/plain": [
              "GridSearchCV(cv=5, error_score=nan,\n",
              "             estimator=RandomForestClassifier(bootstrap=True, ccp_alpha=0.0,\n",
              "                                              class_weight=None,\n",
              "                                              criterion='gini', max_depth=None,\n",
              "                                              max_features='auto',\n",
              "                                              max_leaf_nodes=None,\n",
              "                                              max_samples=None,\n",
              "                                              min_impurity_decrease=0.0,\n",
              "                                              min_impurity_split=None,\n",
              "                                              min_samples_leaf=1,\n",
              "                                              min_samples_split=2,\n",
              "                                              min_weight_fraction_leaf=0.0,\n",
              "                                              n_estimators=100, n_jobs=None,\n",
              "                                              oob_score=False,\n",
              "                                              random_state=None, verbose=0,\n",
              "                                              warm_start=False),\n",
              "             iid='deprecated', n_jobs=None,\n",
              "             param_grid={'min_samples_split': [150, 200, 250, 300, 350]},\n",
              "             pre_dispatch='2*n_jobs', refit=True, return_train_score=True,\n",
              "             scoring='accuracy', verbose=0)"
            ]
          },
          "metadata": {},
          "execution_count": 60
        }
      ]
    },
    {
      "cell_type": "code",
      "metadata": {
        "colab": {
          "base_uri": "https://localhost:8080/",
          "height": 309
        },
        "id": "dT24EcDzgNA0",
        "outputId": "c520f468-8330-40ed-a301-bee456e57646"
      },
      "source": [
        "# scores of GridSearch CV\n",
        "scores = rf.cv_results_\n",
        "pd.DataFrame(scores).head()"
      ],
      "execution_count": 31,
      "outputs": [
        {
          "output_type": "execute_result",
          "data": {
            "text/html": [
              "<div>\n",
              "<style scoped>\n",
              "    .dataframe tbody tr th:only-of-type {\n",
              "        vertical-align: middle;\n",
              "    }\n",
              "\n",
              "    .dataframe tbody tr th {\n",
              "        vertical-align: top;\n",
              "    }\n",
              "\n",
              "    .dataframe thead th {\n",
              "        text-align: right;\n",
              "    }\n",
              "</style>\n",
              "<table border=\"1\" class=\"dataframe\">\n",
              "  <thead>\n",
              "    <tr style=\"text-align: right;\">\n",
              "      <th></th>\n",
              "      <th>mean_fit_time</th>\n",
              "      <th>std_fit_time</th>\n",
              "      <th>mean_score_time</th>\n",
              "      <th>std_score_time</th>\n",
              "      <th>param_min_samples_split</th>\n",
              "      <th>params</th>\n",
              "      <th>split0_test_score</th>\n",
              "      <th>split1_test_score</th>\n",
              "      <th>split2_test_score</th>\n",
              "      <th>split3_test_score</th>\n",
              "      <th>split4_test_score</th>\n",
              "      <th>mean_test_score</th>\n",
              "      <th>std_test_score</th>\n",
              "      <th>rank_test_score</th>\n",
              "      <th>split0_train_score</th>\n",
              "      <th>split1_train_score</th>\n",
              "      <th>split2_train_score</th>\n",
              "      <th>split3_train_score</th>\n",
              "      <th>split4_train_score</th>\n",
              "      <th>mean_train_score</th>\n",
              "      <th>std_train_score</th>\n",
              "    </tr>\n",
              "  </thead>\n",
              "  <tbody>\n",
              "    <tr>\n",
              "      <th>0</th>\n",
              "      <td>3.486228</td>\n",
              "      <td>0.038665</td>\n",
              "      <td>0.060590</td>\n",
              "      <td>0.000629</td>\n",
              "      <td>200</td>\n",
              "      <td>{'min_samples_split': 200}</td>\n",
              "      <td>0.810238</td>\n",
              "      <td>0.823810</td>\n",
              "      <td>0.823571</td>\n",
              "      <td>0.820714</td>\n",
              "      <td>0.824244</td>\n",
              "      <td>0.820515</td>\n",
              "      <td>0.005287</td>\n",
              "      <td>2</td>\n",
              "      <td>0.826954</td>\n",
              "      <td>0.824692</td>\n",
              "      <td>0.823144</td>\n",
              "      <td>0.824573</td>\n",
              "      <td>0.825833</td>\n",
              "      <td>0.825039</td>\n",
              "      <td>0.001283</td>\n",
              "    </tr>\n",
              "    <tr>\n",
              "      <th>1</th>\n",
              "      <td>3.333976</td>\n",
              "      <td>0.045945</td>\n",
              "      <td>0.058242</td>\n",
              "      <td>0.001141</td>\n",
              "      <td>250</td>\n",
              "      <td>{'min_samples_split': 250}</td>\n",
              "      <td>0.811429</td>\n",
              "      <td>0.823810</td>\n",
              "      <td>0.823810</td>\n",
              "      <td>0.821667</td>\n",
              "      <td>0.823768</td>\n",
              "      <td>0.820896</td>\n",
              "      <td>0.004805</td>\n",
              "      <td>1</td>\n",
              "      <td>0.824394</td>\n",
              "      <td>0.823323</td>\n",
              "      <td>0.822787</td>\n",
              "      <td>0.823144</td>\n",
              "      <td>0.823333</td>\n",
              "      <td>0.823396</td>\n",
              "      <td>0.000537</td>\n",
              "    </tr>\n",
              "    <tr>\n",
              "      <th>2</th>\n",
              "      <td>3.260481</td>\n",
              "      <td>0.034454</td>\n",
              "      <td>0.056761</td>\n",
              "      <td>0.000584</td>\n",
              "      <td>300</td>\n",
              "      <td>{'min_samples_split': 300}</td>\n",
              "      <td>0.810238</td>\n",
              "      <td>0.821905</td>\n",
              "      <td>0.822619</td>\n",
              "      <td>0.822143</td>\n",
              "      <td>0.822815</td>\n",
              "      <td>0.819944</td>\n",
              "      <td>0.004864</td>\n",
              "      <td>4</td>\n",
              "      <td>0.824513</td>\n",
              "      <td>0.821835</td>\n",
              "      <td>0.822311</td>\n",
              "      <td>0.822073</td>\n",
              "      <td>0.822976</td>\n",
              "      <td>0.822742</td>\n",
              "      <td>0.000964</td>\n",
              "    </tr>\n",
              "    <tr>\n",
              "      <th>3</th>\n",
              "      <td>3.178832</td>\n",
              "      <td>0.056966</td>\n",
              "      <td>0.057603</td>\n",
              "      <td>0.002328</td>\n",
              "      <td>350</td>\n",
              "      <td>{'min_samples_split': 350}</td>\n",
              "      <td>0.810000</td>\n",
              "      <td>0.823333</td>\n",
              "      <td>0.822619</td>\n",
              "      <td>0.821429</td>\n",
              "      <td>0.822815</td>\n",
              "      <td>0.820039</td>\n",
              "      <td>0.005058</td>\n",
              "      <td>3</td>\n",
              "      <td>0.823799</td>\n",
              "      <td>0.821299</td>\n",
              "      <td>0.821716</td>\n",
              "      <td>0.821775</td>\n",
              "      <td>0.821667</td>\n",
              "      <td>0.822051</td>\n",
              "      <td>0.000890</td>\n",
              "    </tr>\n",
              "    <tr>\n",
              "      <th>4</th>\n",
              "      <td>3.043253</td>\n",
              "      <td>0.048874</td>\n",
              "      <td>0.056230</td>\n",
              "      <td>0.004319</td>\n",
              "      <td>400</td>\n",
              "      <td>{'min_samples_split': 400}</td>\n",
              "      <td>0.809762</td>\n",
              "      <td>0.822381</td>\n",
              "      <td>0.822619</td>\n",
              "      <td>0.820238</td>\n",
              "      <td>0.821862</td>\n",
              "      <td>0.819372</td>\n",
              "      <td>0.004877</td>\n",
              "      <td>6</td>\n",
              "      <td>0.823263</td>\n",
              "      <td>0.820466</td>\n",
              "      <td>0.821418</td>\n",
              "      <td>0.821418</td>\n",
              "      <td>0.821190</td>\n",
              "      <td>0.821551</td>\n",
              "      <td>0.000925</td>\n",
              "    </tr>\n",
              "  </tbody>\n",
              "</table>\n",
              "</div>"
            ],
            "text/plain": [
              "   mean_fit_time  std_fit_time  ...  mean_train_score  std_train_score\n",
              "0       3.486228      0.038665  ...          0.825039         0.001283\n",
              "1       3.333976      0.045945  ...          0.823396         0.000537\n",
              "2       3.260481      0.034454  ...          0.822742         0.000964\n",
              "3       3.178832      0.056966  ...          0.822051         0.000890\n",
              "4       3.043253      0.048874  ...          0.821551         0.000925\n",
              "\n",
              "[5 rows x 21 columns]"
            ]
          },
          "metadata": {},
          "execution_count": 31
        }
      ]
    },
    {
      "cell_type": "code",
      "metadata": {
        "colab": {
          "base_uri": "https://localhost:8080/",
          "height": 280
        },
        "id": "54Aiye7mgNA1",
        "outputId": "964776ef-1873-41d2-ae29-88ce9ab48bde"
      },
      "source": [
        "# plotting accuracies with min_samples_split\n",
        "plt.figure()\n",
        "plt.plot(scores[\"param_min_samples_split\"], \n",
        "         scores[\"mean_train_score\"], \n",
        "         label=\"training accuracy\")\n",
        "plt.plot(scores[\"param_min_samples_split\"], \n",
        "         scores[\"mean_test_score\"], \n",
        "         label=\"test accuracy\")\n",
        "plt.xlabel(\"min_samples_split\")\n",
        "plt.ylabel(\"Accuracy\")\n",
        "plt.legend()\n",
        "plt.show()"
      ],
      "execution_count": 32,
      "outputs": [
        {
          "output_type": "display_data",
          "data": {
            "image/png": "[encoded data removed]",
            "text/plain": [
              "<Figure size 432x288 with 1 Axes>"
            ]
          },
          "metadata": {
            "needs_background": "light"
          }
        }
      ]
    },
    {
      "cell_type": "markdown",
      "metadata": {
        "id": "0UigkrwQgNA1"
      },
      "source": [
        "<hr>"
      ]
    },
    {
      "cell_type": "markdown",
      "metadata": {
        "id": "CHzKUyqcgNA1"
      },
      "source": [
        "## Grid Search to Find Optimal Hyperparameters"
      ]
    },
    {
      "cell_type": "markdown",
      "metadata": {
        "id": "RsyIn-oBgNA1"
      },
      "source": [
        "We can now find the optimal hyperparameters using GridSearchCV."
      ]
    },
    {
      "cell_type": "code",
      "metadata": {
        "id": "bECnSz2CgNA1"
      },
      "source": [
        "# Create the parameter grid based on the results of random search \n",
        "param_grid = {\n",
        "    'max_depth': [4,8,10],\n",
        "    'min_samples_leaf': range(100, 500, 200),\n",
        "    'min_samples_split': range(200, 300, 50),\n",
        "    'n_estimators': [100, 200], \n",
        "    'max_features': [8,10]\n",
        "}\n",
        "# Create a based model\n",
        "rf = RandomForestClassifier()\n",
        "# Instantiate the grid search model\n",
        "grid_search = GridSearchCV(estimator = rf, param_grid = param_grid, \n",
        "                          cv = 3, n_jobs = -1,verbose = 1, return_train_score= True)"
      ],
      "execution_count": 59,
      "outputs": []
    },
    {
      "cell_type": "code",
      "metadata": {
        "colab": {
          "base_uri": "https://localhost:8080/"
        },
        "id": "JKksk3Kn3vqT",
        "outputId": "1be69a58-0dcb-4007-82d0-7b167627edf7"
      },
      "source": [
        "# Fit the grid search to the data\n",
        "grid_search.fit(X_train, y_train)"
      ],
      "execution_count": 60,
      "outputs": [
        {
          "output_type": "stream",
          "name": "stdout",
          "text": [
            "Fitting 3 folds for each of 48 candidates, totalling 144 fits\n"
          ]
        },
        {
          "output_type": "stream",
          "name": "stderr",
          "text": [
            "[Parallel(n_jobs=-1)]: Using backend LokyBackend with 2 concurrent workers.\n",
            "[Parallel(n_jobs=-1)]: Done  46 tasks      | elapsed:  2.0min\n",
            "[Parallel(n_jobs=-1)]: Done 144 out of 144 | elapsed:  8.5min finished\n"
          ]
        },
        {
          "output_type": "execute_result",
          "data": {
            "text/plain": [
              "GridSearchCV(cv=3, error_score=nan,\n",
              "             estimator=RandomForestClassifier(bootstrap=True, ccp_alpha=0.0,\n",
              "                                              class_weight=None,\n",
              "                                              criterion='gini', max_depth=None,\n",
              "                                              max_features='auto',\n",
              "                                              max_leaf_nodes=None,\n",
              "                                              max_samples=None,\n",
              "                                              min_impurity_decrease=0.0,\n",
              "                                              min_impurity_split=None,\n",
              "                                              min_samples_leaf=1,\n",
              "                                              min_samples_split=2,\n",
              "                                              min_weight_fraction_leaf=0.0,\n",
              "                                              n_estimators=100, n_jobs=None,\n",
              "                                              oob_score=False,\n",
              "                                              random_state=None, verbose=0,\n",
              "                                              warm_start=False),\n",
              "             iid='deprecated', n_jobs=-1,\n",
              "             param_grid={'max_depth': [4, 8, 10], 'max_features': [8, 10],\n",
              "                         'min_samples_leaf': range(100, 500, 200),\n",
              "                         'min_samples_split': range(200, 300, 50),\n",
              "                         'n_estimators': [100, 200]},\n",
              "             pre_dispatch='2*n_jobs', refit=True, return_train_score=True,\n",
              "             scoring=None, verbose=1)"
            ]
          },
          "metadata": {},
          "execution_count": 60
        }
      ]
    },
    {
      "cell_type": "code",
      "metadata": {
        "colab": {
          "base_uri": "https://localhost:8080/"
        },
        "id": "CllqeXHvgNA2",
        "outputId": "2df0db62-771b-4520-fa3a-9618c3c7bd1c"
      },
      "source": [
        "# printing the optimal accuracy score and hyperparameters\n",
        "print('We can get accuracy of',grid_search.best_score_,'using',grid_search.best_params_)"
      ],
      "execution_count": 61,
      "outputs": [
        {
          "output_type": "stream",
          "name": "stdout",
          "text": [
            "We can get accuracy of 0.8209523809523809 using {'max_depth': 4, 'max_features': 8, 'min_samples_leaf': 100, 'min_samples_split': 250, 'n_estimators': 100}\n"
          ]
        }
      ]
    },
    {
      "cell_type": "markdown",
      "metadata": {
        "id": "60L6B4bJgNA2"
      },
      "source": [
        "**Fitting the final model with the best parameters obtained from grid search.**"
      ]
    },
    {
      "cell_type": "code",
      "metadata": {
        "id": "FRFmS2A5gNA2"
      },
      "source": [
        "# model with the best hyperparameters\n",
        "from sklearn.ensemble import RandomForestClassifier\n",
        "rfc1 = RandomForestClassifier(bootstrap=True,\n",
        "                             max_depth=4,\n",
        "                             min_samples_leaf=100, \n",
        "                             min_samples_split=250,\n",
        "                             max_features=8,\n",
        "                             n_estimators=100)"
      ],
      "execution_count": 62,
      "outputs": []
    },
    {
      "cell_type": "code",
      "metadata": {
        "colab": {
          "base_uri": "https://localhost:8080/"
        },
        "id": "ydKDpjrkgNA2",
        "outputId": "bcb278e5-19e8-4d44-e823-a482d2ad92c8"
      },
      "source": [
        "# fit\n",
        "rfc1.fit(X_train,y_train)"
      ],
      "execution_count": 63,
      "outputs": [
        {
          "output_type": "execute_result",
          "data": {
            "text/plain": [
              "RandomForestClassifier(bootstrap=True, ccp_alpha=0.0, class_weight=None,\n",
              "                       criterion='gini', max_depth=4, max_features=8,\n",
              "                       max_leaf_nodes=None, max_samples=None,\n",
              "                       min_impurity_decrease=0.0, min_impurity_split=None,\n",
              "                       min_samples_leaf=100, min_samples_split=250,\n",
              "                       min_weight_fraction_leaf=0.0, n_estimators=100,\n",
              "                       n_jobs=None, oob_score=False, random_state=None,\n",
              "                       verbose=0, warm_start=False)"
            ]
          },
          "metadata": {},
          "execution_count": 63
        }
      ]
    },
    {
      "cell_type": "code",
      "metadata": {
        "id": "Z8oI24xYgNA2"
      },
      "source": [
        "# predict\n",
        "predictionsf = rfc1.predict(X_test)"
      ],
      "execution_count": 69,
      "outputs": []
    },
    {
      "cell_type": "code",
      "metadata": {
        "id": "PurlXKFhgNA2"
      },
      "source": [
        "# evaluation metrics\n",
        "from sklearn.metrics import classification_report,confusion_matrix, accuracy_score"
      ],
      "execution_count": 70,
      "outputs": []
    },
    {
      "cell_type": "code",
      "metadata": {
        "colab": {
          "base_uri": "https://localhost:8080/"
        },
        "id": "jK6W9YaggNA3",
        "outputId": "f549764a-6163-463a-97c6-2e559f874769"
      },
      "source": [
        "print(classification_report(y_test,predictionsf))"
      ],
      "execution_count": 71,
      "outputs": [
        {
          "output_type": "stream",
          "name": "stdout",
          "text": [
            "              precision    recall  f1-score   support\n",
            "\n",
            "           0       0.84      0.96      0.89      6982\n",
            "           1       0.70      0.35      0.47      2018\n",
            "\n",
            "    accuracy                           0.82      9000\n",
            "   macro avg       0.77      0.65      0.68      9000\n",
            "weighted avg       0.80      0.82      0.80      9000\n",
            "\n"
          ]
        }
      ]
    },
    {
      "cell_type": "code",
      "metadata": {
        "colab": {
          "base_uri": "https://localhost:8080/"
        },
        "id": "jD1TfxF3gNA3",
        "outputId": "638ca393-0f66-4a8c-a641-66d4964237ba"
      },
      "source": [
        "print(confusion_matrix(y_test,predictionsf))"
      ],
      "execution_count": 72,
      "outputs": [
        {
          "output_type": "stream",
          "name": "stdout",
          "text": [
            "[[6675  307]\n",
            " [1313  705]]\n"
          ]
        }
      ]
    },
    {
      "cell_type": "code",
      "metadata": {
        "colab": {
          "base_uri": "https://localhost:8080/"
        },
        "id": "gJyH2NWqrplt",
        "outputId": "97c9b2e5-0c97-499a-d2d9-d83a48db400f"
      },
      "source": [
        "print(accuracy_score(y_test,predictionsf))"
      ],
      "execution_count": 73,
      "outputs": [
        {
          "output_type": "stream",
          "name": "stdout",
          "text": [
            "0.82\n"
          ]
        }
      ]
    },
    {
      "cell_type": "markdown",
      "metadata": {
        "id": "z1kanPsidCTv"
      },
      "source": [
        "Thus after Grid Search CV, we get an optimum value for each of the specified hyperparamter and effectively increase the accuracy by 0.3 percentage points. "
      ]
    },
    {
      "cell_type": "code",
      "metadata": {
        "id": "EFi32C_fdC-r"
      },
      "source": [
        ""
      ],
      "execution_count": null,
      "outputs": []
    }
  ]
}